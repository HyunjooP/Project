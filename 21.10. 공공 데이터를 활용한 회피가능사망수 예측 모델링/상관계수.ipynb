{
  "nbformat": 4,
  "nbformat_minor": 0,
  "metadata": {
    "colab": {
      "name": "박현주_1004.ipynb",
      "provenance": [],
      "collapsed_sections": [
        "8O_5QaH3IrmU",
        "QkiWSjQqJQ_r"
      ]
    },
    "kernelspec": {
      "name": "python3",
      "display_name": "Python 3"
    },
    "language_info": {
      "name": "python"
    }
  },
  "cells": [
    {
      "cell_type": "code",
      "metadata": {
        "colab": {
          "base_uri": "https://localhost:8080/"
        },
        "id": "bOwgW8UgR6TD",
        "outputId": "61dc8f91-7a60-449c-ef98-f63d533404ec"
      },
      "source": [
        "from google.colab import drive\n",
        "drive.mount('/gdrive', force_remount=True)"
      ],
      "execution_count": null,
      "outputs": [
        {
          "output_type": "stream",
          "name": "stdout",
          "text": [
            "Mounted at /gdrive\n"
          ]
        }
      ]
    },
    {
      "cell_type": "code",
      "metadata": {
        "colab": {
          "base_uri": "https://localhost:8080/"
        },
        "id": "PoZgAkvmSnGM",
        "outputId": "6a89274c-bd1a-403d-bdbb-96d178cef5e6"
      },
      "source": [
        "from google.colab import drive\n",
        "drive.mount('/content/drive')"
      ],
      "execution_count": null,
      "outputs": [
        {
          "output_type": "stream",
          "name": "stdout",
          "text": [
            "Mounted at /content/drive\n"
          ]
        }
      ]
    },
    {
      "cell_type": "code",
      "metadata": {
        "colab": {
          "base_uri": "https://localhost:8080/"
        },
        "id": "A61jePWJSnC2",
        "outputId": "ad2647ff-1f09-425b-c15e-b41b9e5cd0ba"
      },
      "source": [
        "import pandas as pd\n",
        "import numpy as np\n",
        "import seaborn as sns\n",
        "import matplotlib as mpl\n",
        "import matplotlib.pyplot as plt\n",
        "!sudo apt install -y fonts-nanum*  > /dev/null\n",
        "!sudo fc-cache -fv                 > /dev/null\n",
        "!rm ~/.cache/matplotlib -rf        > /dev/null\n",
        "mpl.rc('font', family='NanumGothic')\n",
        "\n",
        "mpl.rc('axes', unicode_minus=False)"
      ],
      "execution_count": null,
      "outputs": [
        {
          "output_type": "stream",
          "name": "stdout",
          "text": [
            "\n",
            "WARNING: apt does not have a stable CLI interface. Use with caution in scripts.\n",
            "\n"
          ]
        }
      ]
    },
    {
      "cell_type": "code",
      "metadata": {
        "id": "PteJVYtOKK_z"
      },
      "source": [
        "hs = '/content/drive/MyDrive/4조_헬스케어/자료파일/1차전처리/healthcare_edit.csv'\n",
        "df = '/content/drive/MyDrive/4조_헬스케어/자료파일/1차전처리/인구대비데이터정리.csv'\n",
        "ar = '/content/drive/MyDrive/4조_헬스케어/자료파일/1차전처리/면적(2019).csv'\n",
        "\n",
        "hs = pd.read_csv(hs)\n",
        "df = pd.read_csv(df)\n",
        "ar = pd.read_csv(ar)"
      ],
      "execution_count": null,
      "outputs": []
    },
    {
      "cell_type": "markdown",
      "metadata": {
        "id": "8O_5QaH3IrmU"
      },
      "source": [
        "## 컬럼정리"
      ]
    },
    {
      "cell_type": "code",
      "metadata": {
        "colab": {
          "base_uri": "https://localhost:8080/"
        },
        "id": "1exNJ0vpToSF",
        "outputId": "d3674d7a-f18b-4cee-8a80-a7f29649b213"
      },
      "source": [
        "hs.dtypes"
      ],
      "execution_count": null,
      "outputs": [
        {
          "output_type": "execute_result",
          "data": {
            "text/plain": [
              "Unnamed: 0      int64\n",
              "가입자 일련번호        int64\n",
              "연령대코드           int64\n",
              "시도코드            int64\n",
              "서식코드            int64\n",
              "진료과목코드          int64\n",
              "주상병코드          object\n",
              "입내원일수           int64\n",
              "심결가산율         float64\n",
              "심결요양급여비용총액      int64\n",
              "dtype: object"
            ]
          },
          "metadata": {},
          "execution_count": 248
        }
      ]
    },
    {
      "cell_type": "code",
      "metadata": {
        "colab": {
          "base_uri": "https://localhost:8080/",
          "height": 237
        },
        "id": "oUoSidG346y-",
        "outputId": "84a3915f-709e-48da-eaaa-6d7078bcab79"
      },
      "source": [
        "df2 = hs.groupby('시도코드')[['입내원일수', '심결요양급여비용총액']].sum()\n",
        "df2.head()"
      ],
      "execution_count": null,
      "outputs": [
        {
          "output_type": "execute_result",
          "data": {
            "text/html": [
              "<div>\n",
              "<style scoped>\n",
              "    .dataframe tbody tr th:only-of-type {\n",
              "        vertical-align: middle;\n",
              "    }\n",
              "\n",
              "    .dataframe tbody tr th {\n",
              "        vertical-align: top;\n",
              "    }\n",
              "\n",
              "    .dataframe thead th {\n",
              "        text-align: right;\n",
              "    }\n",
              "</style>\n",
              "<table border=\"1\" class=\"dataframe\">\n",
              "  <thead>\n",
              "    <tr style=\"text-align: right;\">\n",
              "      <th></th>\n",
              "      <th>입내원일수</th>\n",
              "      <th>심결요양급여비용총액</th>\n",
              "    </tr>\n",
              "    <tr>\n",
              "      <th>시도코드</th>\n",
              "      <th></th>\n",
              "      <th></th>\n",
              "    </tr>\n",
              "  </thead>\n",
              "  <tbody>\n",
              "    <tr>\n",
              "      <th>11</th>\n",
              "      <td>4191024</td>\n",
              "      <td>187836166960</td>\n",
              "    </tr>\n",
              "    <tr>\n",
              "      <th>21</th>\n",
              "      <td>1914593</td>\n",
              "      <td>85683171090</td>\n",
              "    </tr>\n",
              "    <tr>\n",
              "      <th>22</th>\n",
              "      <td>1113887</td>\n",
              "      <td>50084064620</td>\n",
              "    </tr>\n",
              "    <tr>\n",
              "      <th>23</th>\n",
              "      <td>1272059</td>\n",
              "      <td>59609191530</td>\n",
              "    </tr>\n",
              "    <tr>\n",
              "      <th>24</th>\n",
              "      <td>696180</td>\n",
              "      <td>32915444680</td>\n",
              "    </tr>\n",
              "  </tbody>\n",
              "</table>\n",
              "</div>"
            ],
            "text/plain": [
              "        입내원일수    심결요양급여비용총액\n",
              "시도코드                       \n",
              "11    4191024  187836166960\n",
              "21    1914593   85683171090\n",
              "22    1113887   50084064620\n",
              "23    1272059   59609191530\n",
              "24     696180   32915444680"
            ]
          },
          "metadata": {},
          "execution_count": 249
        }
      ]
    },
    {
      "cell_type": "code",
      "metadata": {
        "colab": {
          "base_uri": "https://localhost:8080/",
          "height": 438
        },
        "id": "cVNubPWTSgVq",
        "outputId": "813cfd2d-eacf-48ca-90fa-8af33944357a"
      },
      "source": [
        "df3 = pd.merge(df, df2, on='시도코드')\n",
        "del df3['Unnamed: 0']\n",
        "df3.rename(columns={'십만명당 회피가능사망율':'십만명당 회피가능사망수'},inplace=True)\n",
        "df3.head(3)"
      ],
      "execution_count": null,
      "outputs": [
        {
          "output_type": "execute_result",
          "data": {
            "text/html": [
              "<div>\n",
              "<style scoped>\n",
              "    .dataframe tbody tr th:only-of-type {\n",
              "        vertical-align: middle;\n",
              "    }\n",
              "\n",
              "    .dataframe tbody tr th {\n",
              "        vertical-align: top;\n",
              "    }\n",
              "\n",
              "    .dataframe thead th {\n",
              "        text-align: right;\n",
              "    }\n",
              "</style>\n",
              "<table border=\"1\" class=\"dataframe\">\n",
              "  <thead>\n",
              "    <tr style=\"text-align: right;\">\n",
              "      <th></th>\n",
              "      <th>시도코드</th>\n",
              "      <th>시도명</th>\n",
              "      <th>십만명당 회피가능사망수</th>\n",
              "      <th>총 인구</th>\n",
              "      <th>주민등록인구</th>\n",
              "      <th>의료인수합계</th>\n",
              "      <th>의사</th>\n",
              "      <th>간호사</th>\n",
              "      <th>천명당 의료인수</th>\n",
              "      <th>천명당 의사수</th>\n",
              "      <th>천명당 간호사수</th>\n",
              "      <th>병상수합계</th>\n",
              "      <th>천명당 병상수</th>\n",
              "      <th>요양기관합계</th>\n",
              "      <th>상급종합병원</th>\n",
              "      <th>종합병원</th>\n",
              "      <th>병원</th>\n",
              "      <th>의원</th>\n",
              "      <th>천명당 요양기관수</th>\n",
              "      <th>천명당 상급+종합병원수</th>\n",
              "      <th>입내원일수</th>\n",
              "      <th>심결요양급여비용총액</th>\n",
              "    </tr>\n",
              "  </thead>\n",
              "  <tbody>\n",
              "    <tr>\n",
              "      <th>0</th>\n",
              "      <td>11</td>\n",
              "      <td>서울특별시</td>\n",
              "      <td>66.496942</td>\n",
              "      <td>9639541</td>\n",
              "      <td>9729107</td>\n",
              "      <td>114861</td>\n",
              "      <td>30359</td>\n",
              "      <td>52727</td>\n",
              "      <td>11.805914</td>\n",
              "      <td>3.120430</td>\n",
              "      <td>5.419511</td>\n",
              "      <td>88059</td>\n",
              "      <td>9.1</td>\n",
              "      <td>8924</td>\n",
              "      <td>13</td>\n",
              "      <td>44</td>\n",
              "      <td>228</td>\n",
              "      <td>8628</td>\n",
              "      <td>0.917248</td>\n",
              "      <td>0.005859</td>\n",
              "      <td>4191024</td>\n",
              "      <td>187836166960</td>\n",
              "    </tr>\n",
              "    <tr>\n",
              "      <th>1</th>\n",
              "      <td>21</td>\n",
              "      <td>부산광역시</td>\n",
              "      <td>86.370176</td>\n",
              "      <td>3372692</td>\n",
              "      <td>3413841</td>\n",
              "      <td>37028</td>\n",
              "      <td>8008</td>\n",
              "      <td>18514</td>\n",
              "      <td>10.846434</td>\n",
              "      <td>2.345745</td>\n",
              "      <td>5.423217</td>\n",
              "      <td>69862</td>\n",
              "      <td>20.5</td>\n",
              "      <td>2576</td>\n",
              "      <td>4</td>\n",
              "      <td>25</td>\n",
              "      <td>142</td>\n",
              "      <td>2384</td>\n",
              "      <td>0.754575</td>\n",
              "      <td>0.008495</td>\n",
              "      <td>1914593</td>\n",
              "      <td>85683171090</td>\n",
              "    </tr>\n",
              "    <tr>\n",
              "      <th>2</th>\n",
              "      <td>22</td>\n",
              "      <td>대구광역시</td>\n",
              "      <td>61.359540</td>\n",
              "      <td>2429940</td>\n",
              "      <td>2438031</td>\n",
              "      <td>26087</td>\n",
              "      <td>5908</td>\n",
              "      <td>12557</td>\n",
              "      <td>10.700028</td>\n",
              "      <td>2.423267</td>\n",
              "      <td>5.150468</td>\n",
              "      <td>38132</td>\n",
              "      <td>15.6</td>\n",
              "      <td>1950</td>\n",
              "      <td>5</td>\n",
              "      <td>11</td>\n",
              "      <td>109</td>\n",
              "      <td>1803</td>\n",
              "      <td>0.799826</td>\n",
              "      <td>0.006563</td>\n",
              "      <td>1113887</td>\n",
              "      <td>50084064620</td>\n",
              "    </tr>\n",
              "  </tbody>\n",
              "</table>\n",
              "</div>"
            ],
            "text/plain": [
              "   시도코드    시도명  십만명당 회피가능사망수  ...  천명당 상급+종합병원수    입내원일수    심결요양급여비용총액\n",
              "0    11  서울특별시     66.496942  ...      0.005859  4191024  187836166960\n",
              "1    21  부산광역시     86.370176  ...      0.008495  1914593   85683171090\n",
              "2    22  대구광역시     61.359540  ...      0.006563  1113887   50084064620\n",
              "\n",
              "[3 rows x 22 columns]"
            ]
          },
          "metadata": {},
          "execution_count": 250
        }
      ]
    },
    {
      "cell_type": "code",
      "metadata": {
        "colab": {
          "base_uri": "https://localhost:8080/",
          "height": 458
        },
        "id": "5S7p3Xzyavtw",
        "outputId": "6c945119-8014-4a71-d5fe-0bda4c10ceb4"
      },
      "source": [
        "df3['인구당 요양급여비'] = df3['심결요양급여비용총액'] / df3['총 인구']\n",
        "df3['인구당 입내원일수'] = df3['입내원일수'] / df3['총 인구']\n",
        "df4 = pd.merge(df3, ar, on='시도코드')\n",
        "del df4['Unnamed: 0']\n",
        "del df4['시도']\n",
        "df4.head(3)"
      ],
      "execution_count": null,
      "outputs": [
        {
          "output_type": "execute_result",
          "data": {
            "text/html": [
              "<div>\n",
              "<style scoped>\n",
              "    .dataframe tbody tr th:only-of-type {\n",
              "        vertical-align: middle;\n",
              "    }\n",
              "\n",
              "    .dataframe tbody tr th {\n",
              "        vertical-align: top;\n",
              "    }\n",
              "\n",
              "    .dataframe thead th {\n",
              "        text-align: right;\n",
              "    }\n",
              "</style>\n",
              "<table border=\"1\" class=\"dataframe\">\n",
              "  <thead>\n",
              "    <tr style=\"text-align: right;\">\n",
              "      <th></th>\n",
              "      <th>시도코드</th>\n",
              "      <th>시도명</th>\n",
              "      <th>십만명당 회피가능사망수</th>\n",
              "      <th>총 인구</th>\n",
              "      <th>주민등록인구</th>\n",
              "      <th>의료인수합계</th>\n",
              "      <th>의사</th>\n",
              "      <th>간호사</th>\n",
              "      <th>천명당 의료인수</th>\n",
              "      <th>천명당 의사수</th>\n",
              "      <th>천명당 간호사수</th>\n",
              "      <th>병상수합계</th>\n",
              "      <th>천명당 병상수</th>\n",
              "      <th>요양기관합계</th>\n",
              "      <th>상급종합병원</th>\n",
              "      <th>종합병원</th>\n",
              "      <th>병원</th>\n",
              "      <th>의원</th>\n",
              "      <th>천명당 요양기관수</th>\n",
              "      <th>천명당 상급+종합병원수</th>\n",
              "      <th>입내원일수</th>\n",
              "      <th>심결요양급여비용총액</th>\n",
              "      <th>인구당 요양급여비</th>\n",
              "      <th>인구당 입내원일수</th>\n",
              "      <th>면적(2019)</th>\n",
              "    </tr>\n",
              "  </thead>\n",
              "  <tbody>\n",
              "    <tr>\n",
              "      <th>0</th>\n",
              "      <td>11</td>\n",
              "      <td>서울특별시</td>\n",
              "      <td>66.496942</td>\n",
              "      <td>9639541</td>\n",
              "      <td>9729107</td>\n",
              "      <td>114861</td>\n",
              "      <td>30359</td>\n",
              "      <td>52727</td>\n",
              "      <td>11.805914</td>\n",
              "      <td>3.120430</td>\n",
              "      <td>5.419511</td>\n",
              "      <td>88059</td>\n",
              "      <td>9.1</td>\n",
              "      <td>8924</td>\n",
              "      <td>13</td>\n",
              "      <td>44</td>\n",
              "      <td>228</td>\n",
              "      <td>8628</td>\n",
              "      <td>0.917248</td>\n",
              "      <td>0.005859</td>\n",
              "      <td>4191024</td>\n",
              "      <td>187836166960</td>\n",
              "      <td>19486.007369</td>\n",
              "      <td>0.434774</td>\n",
              "      <td>605237001.6</td>\n",
              "    </tr>\n",
              "    <tr>\n",
              "      <th>1</th>\n",
              "      <td>21</td>\n",
              "      <td>부산광역시</td>\n",
              "      <td>86.370176</td>\n",
              "      <td>3372692</td>\n",
              "      <td>3413841</td>\n",
              "      <td>37028</td>\n",
              "      <td>8008</td>\n",
              "      <td>18514</td>\n",
              "      <td>10.846434</td>\n",
              "      <td>2.345745</td>\n",
              "      <td>5.423217</td>\n",
              "      <td>69862</td>\n",
              "      <td>20.5</td>\n",
              "      <td>2576</td>\n",
              "      <td>4</td>\n",
              "      <td>25</td>\n",
              "      <td>142</td>\n",
              "      <td>2384</td>\n",
              "      <td>0.754575</td>\n",
              "      <td>0.008495</td>\n",
              "      <td>1914593</td>\n",
              "      <td>85683171090</td>\n",
              "      <td>25404.979491</td>\n",
              "      <td>0.567675</td>\n",
              "      <td>770073413.2</td>\n",
              "    </tr>\n",
              "    <tr>\n",
              "      <th>2</th>\n",
              "      <td>22</td>\n",
              "      <td>대구광역시</td>\n",
              "      <td>61.359540</td>\n",
              "      <td>2429940</td>\n",
              "      <td>2438031</td>\n",
              "      <td>26087</td>\n",
              "      <td>5908</td>\n",
              "      <td>12557</td>\n",
              "      <td>10.700028</td>\n",
              "      <td>2.423267</td>\n",
              "      <td>5.150468</td>\n",
              "      <td>38132</td>\n",
              "      <td>15.6</td>\n",
              "      <td>1950</td>\n",
              "      <td>5</td>\n",
              "      <td>11</td>\n",
              "      <td>109</td>\n",
              "      <td>1803</td>\n",
              "      <td>0.799826</td>\n",
              "      <td>0.006563</td>\n",
              "      <td>1113887</td>\n",
              "      <td>50084064620</td>\n",
              "      <td>20611.235100</td>\n",
              "      <td>0.458401</td>\n",
              "      <td>883517307.5</td>\n",
              "    </tr>\n",
              "  </tbody>\n",
              "</table>\n",
              "</div>"
            ],
            "text/plain": [
              "   시도코드    시도명  십만명당 회피가능사망수  ...     인구당 요양급여비  인구당 입내원일수     면적(2019)\n",
              "0    11  서울특별시     66.496942  ...  19486.007369   0.434774  605237001.6\n",
              "1    21  부산광역시     86.370176  ...  25404.979491   0.567675  770073413.2\n",
              "2    22  대구광역시     61.359540  ...  20611.235100   0.458401  883517307.5\n",
              "\n",
              "[3 rows x 25 columns]"
            ]
          },
          "metadata": {},
          "execution_count": 251
        }
      ]
    },
    {
      "cell_type": "code",
      "metadata": {
        "colab": {
          "base_uri": "https://localhost:8080/"
        },
        "id": "UqtldbZywXJo",
        "outputId": "5bd2f7cb-5016-4856-f8e8-132a0a615718"
      },
      "source": [
        "df4.columns"
      ],
      "execution_count": null,
      "outputs": [
        {
          "output_type": "execute_result",
          "data": {
            "text/plain": [
              "Index(['시도코드', '시도명', '십만명당 회피가능사망수', '총 인구', '주민등록인구', '의료인수합계', '의사', '간호사',\n",
              "       '천명당 의료인수', '천명당 의사수', '천명당 간호사수', '병상수합계', '천명당 병상수', '요양기관합계',\n",
              "       '상급종합병원', '종합병원', '병원', '의원', '천명당 요양기관수', '천명당 상급+종합병원수', '입내원일수',\n",
              "       '심결요양급여비용총액', '인구당 요양급여비', '인구당 입내원일수', '면적(2019)'],\n",
              "      dtype='object')"
            ]
          },
          "metadata": {},
          "execution_count": 252
        }
      ]
    },
    {
      "cell_type": "code",
      "metadata": {
        "id": "PLt1gqmEUMJu"
      },
      "source": [
        "df4['면적당 요양기관수'] = df4['요양기관합계'] / df4['면적(2019)']\n",
        "df4['면적당 요양기관수(상급)'] = df4['상급종합병원'] / df4['면적(2019)']\n",
        "df4['면적당 요양기관수(상급+종합)'] = ( df4['상급종합병원']+df4['종합병원']) / df4['면적(2019)']\n",
        "df4['면적당 요양기관수(종합)'] = df4['종합병원'] / df4['면적(2019)']\n",
        "df4['면적당 요양기관수(병원)'] = df4['병원'] / df4['면적(2019)']\n",
        "df4['면적당 요양기관수(의원)'] = df4['의원'] / df4['면적(2019)']"
      ],
      "execution_count": null,
      "outputs": []
    },
    {
      "cell_type": "code",
      "metadata": {
        "id": "aDsIjmp8yOMg"
      },
      "source": [
        "df4['천명당 요양기관수(상급)'] = df4['상급종합병원'] / df4['총 인구'] * 1000\n",
        "df4['천명당 요양기관수(상급+종합)'] = ( df4['상급종합병원']+df4['종합병원']) / df4['총 인구'] * 1000\n",
        "df4['천명당 요양기관수(종합)'] = df4['종합병원'] / df4['총 인구'] * 1000\n",
        "df4['천명당 요양기관수(병원)'] = df4['병원'] / df4['총 인구'] * 1000\n",
        "df4['천명당 요양기관수(의원)'] = df4['의원'] / df4['총 인구'] * 1000"
      ],
      "execution_count": null,
      "outputs": []
    },
    {
      "cell_type": "code",
      "metadata": {
        "colab": {
          "base_uri": "https://localhost:8080/"
        },
        "id": "FIUZzzZl90r1",
        "outputId": "7052436c-ff1f-4558-89e9-b6cf2ffdc890"
      },
      "source": [
        "df4.columns"
      ],
      "execution_count": null,
      "outputs": [
        {
          "output_type": "execute_result",
          "data": {
            "text/plain": [
              "Index(['시도코드', '시도명', '십만명당 회피가능사망수', '총 인구', '주민등록인구', '의료인수합계', '의사', '간호사',\n",
              "       '천명당 의료인수', '천명당 의사수', '천명당 간호사수', '병상수합계', '천명당 병상수', '요양기관합계',\n",
              "       '상급종합병원', '종합병원', '병원', '의원', '천명당 요양기관수', '천명당 상급+종합병원수', '입내원일수',\n",
              "       '심결요양급여비용총액', '인구당 요양급여비', '인구당 입내원일수', '면적(2019)', '면적당 요양기관수',\n",
              "       '면적당 요양기관수(상급)', '면적당 요양기관수(상급+종합)', '면적당 요양기관수(종합)', '면적당 요양기관수(병원)',\n",
              "       '면적당 요양기관수(의원)', '천명당 요양기관수(상급)', '천명당 요양기관수(상급+종합)', '천명당 요양기관수(종합)',\n",
              "       '천명당 요양기관수(병원)', '천명당 요양기관수(의원)'],\n",
              "      dtype='object')"
            ]
          },
          "metadata": {},
          "execution_count": 255
        }
      ]
    },
    {
      "cell_type": "markdown",
      "metadata": {
        "id": "QkiWSjQqJQ_r"
      },
      "source": [
        "## 의료기관 내 의료종사자 수 정리"
      ]
    },
    {
      "cell_type": "code",
      "metadata": {
        "colab": {
          "base_uri": "https://localhost:8080/",
          "height": 206
        },
        "id": "zeqUe_5BJBX2",
        "outputId": "388d4925-6f18-4ff9-f6b3-959973378238"
      },
      "source": [
        "em = '/content/drive/MyDrive/4조_헬스케어/자료파일/1차전처리/employees.csv'\n",
        "em = pd.read_csv(em)\n",
        "em.replace(['서울', '부산', '인천', '대구', '광주', '대전', '울산', '경기', '강원', '충북', '충남',\n",
        "       '전북', '전남', '경북', '경남', '제주', '세종'],\n",
        "       ['11', '21', '23', '22', '24', '25', '26', '31', '32',\n",
        "       '33', '34', '35', '36', '37', '38', '39', '29'],inplace=True)\n",
        "em = em[em['요양기관종별'] != '소계']\n",
        "em.rename(columns={'시도':'시도코드'},inplace=True)\n",
        "em['의료인수'] = em['의사계'] + em['간호사계']\n",
        "del em['의사계']\n",
        "del em['간호사계']\n",
        "em.head(5)"
      ],
      "execution_count": null,
      "outputs": [
        {
          "output_type": "execute_result",
          "data": {
            "text/html": [
              "<div>\n",
              "<style scoped>\n",
              "    .dataframe tbody tr th:only-of-type {\n",
              "        vertical-align: middle;\n",
              "    }\n",
              "\n",
              "    .dataframe tbody tr th {\n",
              "        vertical-align: top;\n",
              "    }\n",
              "\n",
              "    .dataframe thead th {\n",
              "        text-align: right;\n",
              "    }\n",
              "</style>\n",
              "<table border=\"1\" class=\"dataframe\">\n",
              "  <thead>\n",
              "    <tr style=\"text-align: right;\">\n",
              "      <th></th>\n",
              "      <th>시도코드</th>\n",
              "      <th>요양기관종별</th>\n",
              "      <th>의료인수</th>\n",
              "    </tr>\n",
              "  </thead>\n",
              "  <tbody>\n",
              "    <tr>\n",
              "      <th>1</th>\n",
              "      <td>11</td>\n",
              "      <td>상급종합병원</td>\n",
              "      <td>32841</td>\n",
              "    </tr>\n",
              "    <tr>\n",
              "      <th>2</th>\n",
              "      <td>11</td>\n",
              "      <td>종합병원</td>\n",
              "      <td>19355</td>\n",
              "    </tr>\n",
              "    <tr>\n",
              "      <th>3</th>\n",
              "      <td>11</td>\n",
              "      <td>병원</td>\n",
              "      <td>8105</td>\n",
              "    </tr>\n",
              "    <tr>\n",
              "      <th>4</th>\n",
              "      <td>11</td>\n",
              "      <td>의원</td>\n",
              "      <td>17135</td>\n",
              "    </tr>\n",
              "    <tr>\n",
              "      <th>6</th>\n",
              "      <td>21</td>\n",
              "      <td>상급종합병원</td>\n",
              "      <td>6124</td>\n",
              "    </tr>\n",
              "  </tbody>\n",
              "</table>\n",
              "</div>"
            ],
            "text/plain": [
              "  시도코드  요양기관종별   의료인수\n",
              "1   11  상급종합병원  32841\n",
              "2   11    종합병원  19355\n",
              "3   11      병원   8105\n",
              "4   11      의원  17135\n",
              "6   21  상급종합병원   6124"
            ]
          },
          "metadata": {},
          "execution_count": 256
        }
      ]
    },
    {
      "cell_type": "code",
      "metadata": {
        "colab": {
          "base_uri": "https://localhost:8080/",
          "height": 237
        },
        "id": "wHlYj35z2Erf",
        "outputId": "3f76c1cf-afcd-4e4d-90bc-85dfc4664e9d"
      },
      "source": [
        "em = em.pivot(index='시도코드', columns='요양기관종별')\n",
        "em.columns = ['병원',\t'상급종합병원',\t'의원',\t'종합병원']\n",
        "em.head()"
      ],
      "execution_count": null,
      "outputs": [
        {
          "output_type": "execute_result",
          "data": {
            "text/html": [
              "<div>\n",
              "<style scoped>\n",
              "    .dataframe tbody tr th:only-of-type {\n",
              "        vertical-align: middle;\n",
              "    }\n",
              "\n",
              "    .dataframe tbody tr th {\n",
              "        vertical-align: top;\n",
              "    }\n",
              "\n",
              "    .dataframe thead th {\n",
              "        text-align: right;\n",
              "    }\n",
              "</style>\n",
              "<table border=\"1\" class=\"dataframe\">\n",
              "  <thead>\n",
              "    <tr style=\"text-align: right;\">\n",
              "      <th></th>\n",
              "      <th>병원</th>\n",
              "      <th>상급종합병원</th>\n",
              "      <th>의원</th>\n",
              "      <th>종합병원</th>\n",
              "    </tr>\n",
              "    <tr>\n",
              "      <th>시도코드</th>\n",
              "      <th></th>\n",
              "      <th></th>\n",
              "      <th></th>\n",
              "      <th></th>\n",
              "    </tr>\n",
              "  </thead>\n",
              "  <tbody>\n",
              "    <tr>\n",
              "      <th>11</th>\n",
              "      <td>8105.0</td>\n",
              "      <td>32841.0</td>\n",
              "      <td>17135.0</td>\n",
              "      <td>19355.0</td>\n",
              "    </tr>\n",
              "    <tr>\n",
              "      <th>21</th>\n",
              "      <td>4409.0</td>\n",
              "      <td>6124.0</td>\n",
              "      <td>3632.0</td>\n",
              "      <td>8043.0</td>\n",
              "    </tr>\n",
              "    <tr>\n",
              "      <th>22</th>\n",
              "      <td>4277.0</td>\n",
              "      <td>6445.0</td>\n",
              "      <td>3321.0</td>\n",
              "      <td>2659.0</td>\n",
              "    </tr>\n",
              "    <tr>\n",
              "      <th>23</th>\n",
              "      <td>2232.0</td>\n",
              "      <td>5321.0</td>\n",
              "      <td>2665.0</td>\n",
              "      <td>4463.0</td>\n",
              "    </tr>\n",
              "    <tr>\n",
              "      <th>24</th>\n",
              "      <td>2413.0</td>\n",
              "      <td>2664.0</td>\n",
              "      <td>1745.0</td>\n",
              "      <td>3662.0</td>\n",
              "    </tr>\n",
              "  </tbody>\n",
              "</table>\n",
              "</div>"
            ],
            "text/plain": [
              "          병원   상급종합병원       의원     종합병원\n",
              "시도코드                                   \n",
              "11    8105.0  32841.0  17135.0  19355.0\n",
              "21    4409.0   6124.0   3632.0   8043.0\n",
              "22    4277.0   6445.0   3321.0   2659.0\n",
              "23    2232.0   5321.0   2665.0   4463.0\n",
              "24    2413.0   2664.0   1745.0   3662.0"
            ]
          },
          "metadata": {},
          "execution_count": 257
        }
      ]
    },
    {
      "cell_type": "code",
      "metadata": {
        "id": "9j1EAWrQmgT6",
        "colab": {
          "base_uri": "https://localhost:8080/",
          "height": 237
        },
        "outputId": "667fc185-2035-4646-ff56-7d181963db68"
      },
      "source": [
        "city = ['서울', '부산', '대구', '인천',  '광주', '대전', '울산', '세종', '경기', '강원', '충북', '충남',\n",
        "       '전북', '전남', '경북', '경남', '제주', ]\n",
        "em['시도명'] = city\n",
        "em.head()"
      ],
      "execution_count": null,
      "outputs": [
        {
          "output_type": "execute_result",
          "data": {
            "text/html": [
              "<div>\n",
              "<style scoped>\n",
              "    .dataframe tbody tr th:only-of-type {\n",
              "        vertical-align: middle;\n",
              "    }\n",
              "\n",
              "    .dataframe tbody tr th {\n",
              "        vertical-align: top;\n",
              "    }\n",
              "\n",
              "    .dataframe thead th {\n",
              "        text-align: right;\n",
              "    }\n",
              "</style>\n",
              "<table border=\"1\" class=\"dataframe\">\n",
              "  <thead>\n",
              "    <tr style=\"text-align: right;\">\n",
              "      <th></th>\n",
              "      <th>병원</th>\n",
              "      <th>상급종합병원</th>\n",
              "      <th>의원</th>\n",
              "      <th>종합병원</th>\n",
              "      <th>시도명</th>\n",
              "    </tr>\n",
              "    <tr>\n",
              "      <th>시도코드</th>\n",
              "      <th></th>\n",
              "      <th></th>\n",
              "      <th></th>\n",
              "      <th></th>\n",
              "      <th></th>\n",
              "    </tr>\n",
              "  </thead>\n",
              "  <tbody>\n",
              "    <tr>\n",
              "      <th>11</th>\n",
              "      <td>8105.0</td>\n",
              "      <td>32841.0</td>\n",
              "      <td>17135.0</td>\n",
              "      <td>19355.0</td>\n",
              "      <td>서울</td>\n",
              "    </tr>\n",
              "    <tr>\n",
              "      <th>21</th>\n",
              "      <td>4409.0</td>\n",
              "      <td>6124.0</td>\n",
              "      <td>3632.0</td>\n",
              "      <td>8043.0</td>\n",
              "      <td>부산</td>\n",
              "    </tr>\n",
              "    <tr>\n",
              "      <th>22</th>\n",
              "      <td>4277.0</td>\n",
              "      <td>6445.0</td>\n",
              "      <td>3321.0</td>\n",
              "      <td>2659.0</td>\n",
              "      <td>대구</td>\n",
              "    </tr>\n",
              "    <tr>\n",
              "      <th>23</th>\n",
              "      <td>2232.0</td>\n",
              "      <td>5321.0</td>\n",
              "      <td>2665.0</td>\n",
              "      <td>4463.0</td>\n",
              "      <td>인천</td>\n",
              "    </tr>\n",
              "    <tr>\n",
              "      <th>24</th>\n",
              "      <td>2413.0</td>\n",
              "      <td>2664.0</td>\n",
              "      <td>1745.0</td>\n",
              "      <td>3662.0</td>\n",
              "      <td>광주</td>\n",
              "    </tr>\n",
              "  </tbody>\n",
              "</table>\n",
              "</div>"
            ],
            "text/plain": [
              "          병원   상급종합병원       의원     종합병원 시도명\n",
              "시도코드                                       \n",
              "11    8105.0  32841.0  17135.0  19355.0  서울\n",
              "21    4409.0   6124.0   3632.0   8043.0  부산\n",
              "22    4277.0   6445.0   3321.0   2659.0  대구\n",
              "23    2232.0   5321.0   2665.0   4463.0  인천\n",
              "24    2413.0   2664.0   1745.0   3662.0  광주"
            ]
          },
          "metadata": {},
          "execution_count": 258
        }
      ]
    },
    {
      "cell_type": "code",
      "metadata": {
        "id": "k_aWYHJlciLg"
      },
      "source": [
        "city_n = ['11','21','22','23','24','25','26','29','31','32','33','34','35','36','37','38','39']\n",
        "em['시도코드'] = city_n\n",
        "em = em.astype({'시도코드':'int'})\n",
        "em = em.set_index('시도코드')\n",
        "\n"
      ],
      "execution_count": null,
      "outputs": []
    },
    {
      "cell_type": "code",
      "metadata": {
        "colab": {
          "base_uri": "https://localhost:8080/"
        },
        "id": "0ksQwt7eBplF",
        "outputId": "a59ea805-1e47-42d1-b215-97ca7b5262fb"
      },
      "source": [
        "em.columns"
      ],
      "execution_count": null,
      "outputs": [
        {
          "output_type": "execute_result",
          "data": {
            "text/plain": [
              "Index(['병원', '상급종합병원', '의원', '종합병원', '시도명'], dtype='object')"
            ]
          },
          "metadata": {},
          "execution_count": 260
        }
      ]
    },
    {
      "cell_type": "code",
      "metadata": {
        "colab": {
          "base_uri": "https://localhost:8080/",
          "height": 582
        },
        "id": "06aAMLjYDW9c",
        "outputId": "300520bd-d195-4041-b65d-a22f2bc8e2af"
      },
      "source": [
        "ms = df4[['시도코드', '면적(2019)']]\n",
        "ms = pd.merge(em, ms, on='시도코드')\n",
        "ms.head(17)"
      ],
      "execution_count": null,
      "outputs": [
        {
          "output_type": "execute_result",
          "data": {
            "text/html": [
              "<div>\n",
              "<style scoped>\n",
              "    .dataframe tbody tr th:only-of-type {\n",
              "        vertical-align: middle;\n",
              "    }\n",
              "\n",
              "    .dataframe tbody tr th {\n",
              "        vertical-align: top;\n",
              "    }\n",
              "\n",
              "    .dataframe thead th {\n",
              "        text-align: right;\n",
              "    }\n",
              "</style>\n",
              "<table border=\"1\" class=\"dataframe\">\n",
              "  <thead>\n",
              "    <tr style=\"text-align: right;\">\n",
              "      <th></th>\n",
              "      <th>시도코드</th>\n",
              "      <th>병원</th>\n",
              "      <th>상급종합병원</th>\n",
              "      <th>의원</th>\n",
              "      <th>종합병원</th>\n",
              "      <th>시도명</th>\n",
              "      <th>면적(2019)</th>\n",
              "    </tr>\n",
              "  </thead>\n",
              "  <tbody>\n",
              "    <tr>\n",
              "      <th>0</th>\n",
              "      <td>11</td>\n",
              "      <td>8105.0</td>\n",
              "      <td>32841.0</td>\n",
              "      <td>17135.0</td>\n",
              "      <td>19355.0</td>\n",
              "      <td>서울</td>\n",
              "      <td>6.052370e+08</td>\n",
              "    </tr>\n",
              "    <tr>\n",
              "      <th>1</th>\n",
              "      <td>21</td>\n",
              "      <td>4409.0</td>\n",
              "      <td>6124.0</td>\n",
              "      <td>3632.0</td>\n",
              "      <td>8043.0</td>\n",
              "      <td>부산</td>\n",
              "      <td>7.700734e+08</td>\n",
              "    </tr>\n",
              "    <tr>\n",
              "      <th>2</th>\n",
              "      <td>22</td>\n",
              "      <td>4277.0</td>\n",
              "      <td>6445.0</td>\n",
              "      <td>3321.0</td>\n",
              "      <td>2659.0</td>\n",
              "      <td>대구</td>\n",
              "      <td>8.835173e+08</td>\n",
              "    </tr>\n",
              "    <tr>\n",
              "      <th>3</th>\n",
              "      <td>23</td>\n",
              "      <td>2232.0</td>\n",
              "      <td>5321.0</td>\n",
              "      <td>2665.0</td>\n",
              "      <td>4463.0</td>\n",
              "      <td>인천</td>\n",
              "      <td>1.063258e+09</td>\n",
              "    </tr>\n",
              "    <tr>\n",
              "      <th>4</th>\n",
              "      <td>24</td>\n",
              "      <td>2413.0</td>\n",
              "      <td>2664.0</td>\n",
              "      <td>1745.0</td>\n",
              "      <td>3662.0</td>\n",
              "      <td>광주</td>\n",
              "      <td>5.011363e+08</td>\n",
              "    </tr>\n",
              "    <tr>\n",
              "      <th>5</th>\n",
              "      <td>25</td>\n",
              "      <td>1555.0</td>\n",
              "      <td>1833.0</td>\n",
              "      <td>1901.0</td>\n",
              "      <td>4163.0</td>\n",
              "      <td>대전</td>\n",
              "      <td>5.396265e+08</td>\n",
              "    </tr>\n",
              "    <tr>\n",
              "      <th>6</th>\n",
              "      <td>26</td>\n",
              "      <td>1128.0</td>\n",
              "      <td>NaN</td>\n",
              "      <td>1035.0</td>\n",
              "      <td>3328.0</td>\n",
              "      <td>울산</td>\n",
              "      <td>1.062039e+09</td>\n",
              "    </tr>\n",
              "    <tr>\n",
              "      <th>7</th>\n",
              "      <td>29</td>\n",
              "      <td>NaN</td>\n",
              "      <td>NaN</td>\n",
              "      <td>324.0</td>\n",
              "      <td>74.0</td>\n",
              "      <td>세종</td>\n",
              "      <td>1.019251e+10</td>\n",
              "    </tr>\n",
              "    <tr>\n",
              "      <th>8</th>\n",
              "      <td>31</td>\n",
              "      <td>8636.0</td>\n",
              "      <td>8734.0</td>\n",
              "      <td>12902.0</td>\n",
              "      <td>21339.0</td>\n",
              "      <td>경기</td>\n",
              "      <td>4.649497e+08</td>\n",
              "    </tr>\n",
              "    <tr>\n",
              "      <th>9</th>\n",
              "      <td>32</td>\n",
              "      <td>1214.0</td>\n",
              "      <td>1342.0</td>\n",
              "      <td>1514.0</td>\n",
              "      <td>3624.0</td>\n",
              "      <td>강원</td>\n",
              "      <td>1.682828e+10</td>\n",
              "    </tr>\n",
              "    <tr>\n",
              "      <th>10</th>\n",
              "      <td>33</td>\n",
              "      <td>837.0</td>\n",
              "      <td>1259.0</td>\n",
              "      <td>1448.0</td>\n",
              "      <td>2313.0</td>\n",
              "      <td>충북</td>\n",
              "      <td>7.406820e+09</td>\n",
              "    </tr>\n",
              "    <tr>\n",
              "      <th>11</th>\n",
              "      <td>34</td>\n",
              "      <td>840.0</td>\n",
              "      <td>2432.0</td>\n",
              "      <td>1816.0</td>\n",
              "      <td>1779.0</td>\n",
              "      <td>충남</td>\n",
              "      <td>8.245541e+09</td>\n",
              "    </tr>\n",
              "    <tr>\n",
              "      <th>12</th>\n",
              "      <td>35</td>\n",
              "      <td>1209.0</td>\n",
              "      <td>2734.0</td>\n",
              "      <td>1954.0</td>\n",
              "      <td>2824.0</td>\n",
              "      <td>전북</td>\n",
              "      <td>8.069139e+09</td>\n",
              "    </tr>\n",
              "    <tr>\n",
              "      <th>13</th>\n",
              "      <td>36</td>\n",
              "      <td>2839.0</td>\n",
              "      <td>888.0</td>\n",
              "      <td>1508.0</td>\n",
              "      <td>3438.0</td>\n",
              "      <td>전남</td>\n",
              "      <td>1.234521e+10</td>\n",
              "    </tr>\n",
              "    <tr>\n",
              "      <th>14</th>\n",
              "      <td>37</td>\n",
              "      <td>1876.0</td>\n",
              "      <td>NaN</td>\n",
              "      <td>2338.0</td>\n",
              "      <td>5595.0</td>\n",
              "      <td>경북</td>\n",
              "      <td>1.903334e+10</td>\n",
              "    </tr>\n",
              "    <tr>\n",
              "      <th>15</th>\n",
              "      <td>38</td>\n",
              "      <td>3584.0</td>\n",
              "      <td>3026.0</td>\n",
              "      <td>2850.0</td>\n",
              "      <td>5928.0</td>\n",
              "      <td>경남</td>\n",
              "      <td>1.054037e+10</td>\n",
              "    </tr>\n",
              "    <tr>\n",
              "      <th>16</th>\n",
              "      <td>39</td>\n",
              "      <td>252.0</td>\n",
              "      <td>NaN</td>\n",
              "      <td>1018.0</td>\n",
              "      <td>2258.0</td>\n",
              "      <td>제주</td>\n",
              "      <td>1.850227e+09</td>\n",
              "    </tr>\n",
              "  </tbody>\n",
              "</table>\n",
              "</div>"
            ],
            "text/plain": [
              "    시도코드      병원   상급종합병원       의원     종합병원 시도명      면적(2019)\n",
              "0     11  8105.0  32841.0  17135.0  19355.0  서울  6.052370e+08\n",
              "1     21  4409.0   6124.0   3632.0   8043.0  부산  7.700734e+08\n",
              "2     22  4277.0   6445.0   3321.0   2659.0  대구  8.835173e+08\n",
              "3     23  2232.0   5321.0   2665.0   4463.0  인천  1.063258e+09\n",
              "4     24  2413.0   2664.0   1745.0   3662.0  광주  5.011363e+08\n",
              "5     25  1555.0   1833.0   1901.0   4163.0  대전  5.396265e+08\n",
              "6     26  1128.0      NaN   1035.0   3328.0  울산  1.062039e+09\n",
              "7     29     NaN      NaN    324.0     74.0  세종  1.019251e+10\n",
              "8     31  8636.0   8734.0  12902.0  21339.0  경기  4.649497e+08\n",
              "9     32  1214.0   1342.0   1514.0   3624.0  강원  1.682828e+10\n",
              "10    33   837.0   1259.0   1448.0   2313.0  충북  7.406820e+09\n",
              "11    34   840.0   2432.0   1816.0   1779.0  충남  8.245541e+09\n",
              "12    35  1209.0   2734.0   1954.0   2824.0  전북  8.069139e+09\n",
              "13    36  2839.0    888.0   1508.0   3438.0  전남  1.234521e+10\n",
              "14    37  1876.0      NaN   2338.0   5595.0  경북  1.903334e+10\n",
              "15    38  3584.0   3026.0   2850.0   5928.0  경남  1.054037e+10\n",
              "16    39   252.0      NaN   1018.0   2258.0  제주  1.850227e+09"
            ]
          },
          "metadata": {},
          "execution_count": 261
        }
      ]
    },
    {
      "cell_type": "code",
      "metadata": {
        "id": "i07cs7WREC2K"
      },
      "source": [
        "ms = ms.fillna(0)"
      ],
      "execution_count": null,
      "outputs": []
    },
    {
      "cell_type": "code",
      "metadata": {
        "id": "jM8ySgLUA_9N"
      },
      "source": [
        "ms['면적당 의료인수'] = (ms['상급종합병원'] + ms['종합병원'] + ms['병원'] + ms['의원']) / ms['면적(2019)']\n",
        "ms['면적당 의료인수(상급)'] = ms['상급종합병원'] / ms['면적(2019)']\n",
        "ms['면적당 의료인수(상급+종합)'] = ( ms['상급종합병원']+ms['종합병원']) /ms['면적(2019)']\n",
        "ms['면적당 의료인수(종합)'] = ms['종합병원'] / ms['면적(2019)']\n",
        "ms['면적당 의료인수(병원)'] = ms['병원'] / ms['면적(2019)']\n",
        "ms['면적당 의료인수(의원)'] = ms['의원'] / ms['면적(2019)']"
      ],
      "execution_count": null,
      "outputs": []
    },
    {
      "cell_type": "code",
      "metadata": {
        "id": "4y5EgDvhDVYP"
      },
      "source": [
        "ms = ms[['시도코드',\n",
        "       '면적당 의료인수', '면적당 의료인수(상급)',\n",
        "       '면적당 의료인수(상급+종합)', '면적당 의료인수(종합)', '면적당 의료인수(병원)', '면적당 의료인수(의원)'\n",
        "]]"
      ],
      "execution_count": null,
      "outputs": []
    },
    {
      "cell_type": "code",
      "metadata": {
        "colab": {
          "base_uri": "https://localhost:8080/",
          "height": 660
        },
        "id": "38rWzG10DVQL",
        "outputId": "a610f70a-cb5f-418c-b11b-41535815a7f4"
      },
      "source": [
        "df = pd.merge(df4, ms, on='시도코드')\n",
        "df.head()"
      ],
      "execution_count": null,
      "outputs": [
        {
          "output_type": "execute_result",
          "data": {
            "text/html": [
              "<div>\n",
              "<style scoped>\n",
              "    .dataframe tbody tr th:only-of-type {\n",
              "        vertical-align: middle;\n",
              "    }\n",
              "\n",
              "    .dataframe tbody tr th {\n",
              "        vertical-align: top;\n",
              "    }\n",
              "\n",
              "    .dataframe thead th {\n",
              "        text-align: right;\n",
              "    }\n",
              "</style>\n",
              "<table border=\"1\" class=\"dataframe\">\n",
              "  <thead>\n",
              "    <tr style=\"text-align: right;\">\n",
              "      <th></th>\n",
              "      <th>시도코드</th>\n",
              "      <th>시도명</th>\n",
              "      <th>십만명당 회피가능사망수</th>\n",
              "      <th>총 인구</th>\n",
              "      <th>주민등록인구</th>\n",
              "      <th>의료인수합계</th>\n",
              "      <th>의사</th>\n",
              "      <th>간호사</th>\n",
              "      <th>천명당 의료인수</th>\n",
              "      <th>천명당 의사수</th>\n",
              "      <th>천명당 간호사수</th>\n",
              "      <th>병상수합계</th>\n",
              "      <th>천명당 병상수</th>\n",
              "      <th>요양기관합계</th>\n",
              "      <th>상급종합병원</th>\n",
              "      <th>종합병원</th>\n",
              "      <th>병원</th>\n",
              "      <th>의원</th>\n",
              "      <th>천명당 요양기관수</th>\n",
              "      <th>천명당 상급+종합병원수</th>\n",
              "      <th>입내원일수</th>\n",
              "      <th>심결요양급여비용총액</th>\n",
              "      <th>인구당 요양급여비</th>\n",
              "      <th>인구당 입내원일수</th>\n",
              "      <th>면적(2019)</th>\n",
              "      <th>면적당 요양기관수</th>\n",
              "      <th>면적당 요양기관수(상급)</th>\n",
              "      <th>면적당 요양기관수(상급+종합)</th>\n",
              "      <th>면적당 요양기관수(종합)</th>\n",
              "      <th>면적당 요양기관수(병원)</th>\n",
              "      <th>면적당 요양기관수(의원)</th>\n",
              "      <th>천명당 요양기관수(상급)</th>\n",
              "      <th>천명당 요양기관수(상급+종합)</th>\n",
              "      <th>천명당 요양기관수(종합)</th>\n",
              "      <th>천명당 요양기관수(병원)</th>\n",
              "      <th>천명당 요양기관수(의원)</th>\n",
              "      <th>면적당 의료인수</th>\n",
              "      <th>면적당 의료인수(상급)</th>\n",
              "      <th>면적당 의료인수(상급+종합)</th>\n",
              "      <th>면적당 의료인수(종합)</th>\n",
              "      <th>면적당 의료인수(병원)</th>\n",
              "      <th>면적당 의료인수(의원)</th>\n",
              "    </tr>\n",
              "  </thead>\n",
              "  <tbody>\n",
              "    <tr>\n",
              "      <th>0</th>\n",
              "      <td>11</td>\n",
              "      <td>서울특별시</td>\n",
              "      <td>66.496942</td>\n",
              "      <td>9639541</td>\n",
              "      <td>9729107</td>\n",
              "      <td>114861</td>\n",
              "      <td>30359</td>\n",
              "      <td>52727</td>\n",
              "      <td>11.805914</td>\n",
              "      <td>3.120430</td>\n",
              "      <td>5.419511</td>\n",
              "      <td>88059</td>\n",
              "      <td>9.1</td>\n",
              "      <td>8924</td>\n",
              "      <td>13</td>\n",
              "      <td>44</td>\n",
              "      <td>228</td>\n",
              "      <td>8628</td>\n",
              "      <td>0.917248</td>\n",
              "      <td>0.005859</td>\n",
              "      <td>4191024</td>\n",
              "      <td>187836166960</td>\n",
              "      <td>19486.007369</td>\n",
              "      <td>0.434774</td>\n",
              "      <td>6.052370e+08</td>\n",
              "      <td>0.000015</td>\n",
              "      <td>2.147919e-08</td>\n",
              "      <td>9.417798e-08</td>\n",
              "      <td>7.269879e-08</td>\n",
              "      <td>3.767119e-07</td>\n",
              "      <td>0.000014</td>\n",
              "      <td>0.001349</td>\n",
              "      <td>0.005913</td>\n",
              "      <td>0.004565</td>\n",
              "      <td>0.023653</td>\n",
              "      <td>0.895063</td>\n",
              "      <td>0.000128</td>\n",
              "      <td>0.000054</td>\n",
              "      <td>0.000086</td>\n",
              "      <td>0.000032</td>\n",
              "      <td>0.000013</td>\n",
              "      <td>0.000028</td>\n",
              "    </tr>\n",
              "    <tr>\n",
              "      <th>1</th>\n",
              "      <td>21</td>\n",
              "      <td>부산광역시</td>\n",
              "      <td>86.370176</td>\n",
              "      <td>3372692</td>\n",
              "      <td>3413841</td>\n",
              "      <td>37028</td>\n",
              "      <td>8008</td>\n",
              "      <td>18514</td>\n",
              "      <td>10.846434</td>\n",
              "      <td>2.345745</td>\n",
              "      <td>5.423217</td>\n",
              "      <td>69862</td>\n",
              "      <td>20.5</td>\n",
              "      <td>2576</td>\n",
              "      <td>4</td>\n",
              "      <td>25</td>\n",
              "      <td>142</td>\n",
              "      <td>2384</td>\n",
              "      <td>0.754575</td>\n",
              "      <td>0.008495</td>\n",
              "      <td>1914593</td>\n",
              "      <td>85683171090</td>\n",
              "      <td>25404.979491</td>\n",
              "      <td>0.567675</td>\n",
              "      <td>7.700734e+08</td>\n",
              "      <td>0.000003</td>\n",
              "      <td>5.194310e-09</td>\n",
              "      <td>3.765875e-08</td>\n",
              "      <td>3.246444e-08</td>\n",
              "      <td>1.843980e-07</td>\n",
              "      <td>0.000003</td>\n",
              "      <td>0.001186</td>\n",
              "      <td>0.008598</td>\n",
              "      <td>0.007412</td>\n",
              "      <td>0.042103</td>\n",
              "      <td>0.706854</td>\n",
              "      <td>0.000029</td>\n",
              "      <td>0.000008</td>\n",
              "      <td>0.000018</td>\n",
              "      <td>0.000010</td>\n",
              "      <td>0.000006</td>\n",
              "      <td>0.000005</td>\n",
              "    </tr>\n",
              "    <tr>\n",
              "      <th>2</th>\n",
              "      <td>22</td>\n",
              "      <td>대구광역시</td>\n",
              "      <td>61.359540</td>\n",
              "      <td>2429940</td>\n",
              "      <td>2438031</td>\n",
              "      <td>26087</td>\n",
              "      <td>5908</td>\n",
              "      <td>12557</td>\n",
              "      <td>10.700028</td>\n",
              "      <td>2.423267</td>\n",
              "      <td>5.150468</td>\n",
              "      <td>38132</td>\n",
              "      <td>15.6</td>\n",
              "      <td>1950</td>\n",
              "      <td>5</td>\n",
              "      <td>11</td>\n",
              "      <td>109</td>\n",
              "      <td>1803</td>\n",
              "      <td>0.799826</td>\n",
              "      <td>0.006563</td>\n",
              "      <td>1113887</td>\n",
              "      <td>50084064620</td>\n",
              "      <td>20611.235100</td>\n",
              "      <td>0.458401</td>\n",
              "      <td>8.835173e+08</td>\n",
              "      <td>0.000002</td>\n",
              "      <td>5.659199e-09</td>\n",
              "      <td>1.810944e-08</td>\n",
              "      <td>1.245024e-08</td>\n",
              "      <td>1.233705e-07</td>\n",
              "      <td>0.000002</td>\n",
              "      <td>0.002058</td>\n",
              "      <td>0.006585</td>\n",
              "      <td>0.004527</td>\n",
              "      <td>0.044857</td>\n",
              "      <td>0.741994</td>\n",
              "      <td>0.000019</td>\n",
              "      <td>0.000007</td>\n",
              "      <td>0.000010</td>\n",
              "      <td>0.000003</td>\n",
              "      <td>0.000005</td>\n",
              "      <td>0.000004</td>\n",
              "    </tr>\n",
              "    <tr>\n",
              "      <th>3</th>\n",
              "      <td>23</td>\n",
              "      <td>인천광역시</td>\n",
              "      <td>65.645136</td>\n",
              "      <td>2952237</td>\n",
              "      <td>2957026</td>\n",
              "      <td>24081</td>\n",
              "      <td>5071</td>\n",
              "      <td>11639</td>\n",
              "      <td>8.143655</td>\n",
              "      <td>1.714899</td>\n",
              "      <td>3.936049</td>\n",
              "      <td>34176</td>\n",
              "      <td>11.6</td>\n",
              "      <td>1677</td>\n",
              "      <td>3</td>\n",
              "      <td>16</td>\n",
              "      <td>62</td>\n",
              "      <td>1573</td>\n",
              "      <td>0.567124</td>\n",
              "      <td>0.006425</td>\n",
              "      <td>1272059</td>\n",
              "      <td>59609191530</td>\n",
              "      <td>20191.194518</td>\n",
              "      <td>0.430880</td>\n",
              "      <td>1.063258e+09</td>\n",
              "      <td>0.000002</td>\n",
              "      <td>2.821517e-09</td>\n",
              "      <td>1.786961e-08</td>\n",
              "      <td>1.504809e-08</td>\n",
              "      <td>5.831135e-08</td>\n",
              "      <td>0.000001</td>\n",
              "      <td>0.001016</td>\n",
              "      <td>0.006436</td>\n",
              "      <td>0.005420</td>\n",
              "      <td>0.021001</td>\n",
              "      <td>0.532816</td>\n",
              "      <td>0.000014</td>\n",
              "      <td>0.000005</td>\n",
              "      <td>0.000009</td>\n",
              "      <td>0.000004</td>\n",
              "      <td>0.000002</td>\n",
              "      <td>0.000003</td>\n",
              "    </tr>\n",
              "    <tr>\n",
              "      <th>4</th>\n",
              "      <td>24</td>\n",
              "      <td>광주광역시</td>\n",
              "      <td>60.682137</td>\n",
              "      <td>1489730</td>\n",
              "      <td>1456468</td>\n",
              "      <td>17835</td>\n",
              "      <td>3658</td>\n",
              "      <td>8949</td>\n",
              "      <td>12.245377</td>\n",
              "      <td>2.511555</td>\n",
              "      <td>6.144316</td>\n",
              "      <td>40206</td>\n",
              "      <td>27.6</td>\n",
              "      <td>1075</td>\n",
              "      <td>2</td>\n",
              "      <td>21</td>\n",
              "      <td>80</td>\n",
              "      <td>948</td>\n",
              "      <td>0.738087</td>\n",
              "      <td>0.015792</td>\n",
              "      <td>696180</td>\n",
              "      <td>32915444680</td>\n",
              "      <td>22094.906245</td>\n",
              "      <td>0.467320</td>\n",
              "      <td>5.011363e+08</td>\n",
              "      <td>0.000002</td>\n",
              "      <td>3.990931e-09</td>\n",
              "      <td>4.589570e-08</td>\n",
              "      <td>4.190477e-08</td>\n",
              "      <td>1.596372e-07</td>\n",
              "      <td>0.000002</td>\n",
              "      <td>0.001343</td>\n",
              "      <td>0.015439</td>\n",
              "      <td>0.014097</td>\n",
              "      <td>0.053701</td>\n",
              "      <td>0.636357</td>\n",
              "      <td>0.000021</td>\n",
              "      <td>0.000005</td>\n",
              "      <td>0.000013</td>\n",
              "      <td>0.000007</td>\n",
              "      <td>0.000005</td>\n",
              "      <td>0.000003</td>\n",
              "    </tr>\n",
              "  </tbody>\n",
              "</table>\n",
              "</div>"
            ],
            "text/plain": [
              "   시도코드    시도명  십만명당 회피가능사망수  ...  면적당 의료인수(종합)  면적당 의료인수(병원)  면적당 의료인수(의원)\n",
              "0    11  서울특별시     66.496942  ...      0.000032      0.000013      0.000028\n",
              "1    21  부산광역시     86.370176  ...      0.000010      0.000006      0.000005\n",
              "2    22  대구광역시     61.359540  ...      0.000003      0.000005      0.000004\n",
              "3    23  인천광역시     65.645136  ...      0.000004      0.000002      0.000003\n",
              "4    24  광주광역시     60.682137  ...      0.000007      0.000005      0.000003\n",
              "\n",
              "[5 rows x 42 columns]"
            ]
          },
          "metadata": {},
          "execution_count": 265
        }
      ]
    },
    {
      "cell_type": "code",
      "metadata": {
        "id": "1lb2EshkDVH5"
      },
      "source": [
        ""
      ],
      "execution_count": null,
      "outputs": []
    },
    {
      "cell_type": "code",
      "metadata": {
        "id": "OZQLWhNWDVAj"
      },
      "source": [
        ""
      ],
      "execution_count": null,
      "outputs": []
    },
    {
      "cell_type": "code",
      "metadata": {
        "colab": {
          "base_uri": "https://localhost:8080/"
        },
        "id": "vhLJc7kWA_23",
        "outputId": "5b3332cf-6ad7-47f1-8c49-575e9ea64c44"
      },
      "source": [
        "df.columns"
      ],
      "execution_count": null,
      "outputs": [
        {
          "output_type": "execute_result",
          "data": {
            "text/plain": [
              "Index(['시도코드', '시도명', '십만명당 회피가능사망수', '총 인구', '주민등록인구', '의료인수합계', '의사', '간호사',\n",
              "       '천명당 의료인수', '천명당 의사수', '천명당 간호사수', '병상수합계', '천명당 병상수', '요양기관합계',\n",
              "       '상급종합병원', '종합병원', '병원', '의원', '천명당 요양기관수', '천명당 상급+종합병원수', '입내원일수',\n",
              "       '심결요양급여비용총액', '인구당 요양급여비', '인구당 입내원일수', '면적(2019)', '면적당 요양기관수',\n",
              "       '면적당 요양기관수(상급)', '면적당 요양기관수(상급+종합)', '면적당 요양기관수(종합)', '면적당 요양기관수(병원)',\n",
              "       '면적당 요양기관수(의원)', '천명당 요양기관수(상급)', '천명당 요양기관수(상급+종합)', '천명당 요양기관수(종합)',\n",
              "       '천명당 요양기관수(병원)', '천명당 요양기관수(의원)', '면적당 의료인수', '면적당 의료인수(상급)',\n",
              "       '면적당 의료인수(상급+종합)', '면적당 의료인수(종합)', '면적당 의료인수(병원)', '면적당 의료인수(의원)'],\n",
              "      dtype='object')"
            ]
          },
          "metadata": {},
          "execution_count": 266
        }
      ]
    },
    {
      "cell_type": "code",
      "metadata": {
        "id": "Le242uePCFSC"
      },
      "source": [
        "df = df[[\n",
        "           '시도코드', '시도명', '십만명당 회피가능사망수', '총 인구', '주민등록인구', '면적(2019)',\n",
        "           '인구당 요양급여비', '인구당 입내원일수',\n",
        "       '천명당 의료인수', '천명당 의사수', '천명당 간호사수', \n",
        "       '면적당 의료인수', '면적당 의료인수(상급)',\n",
        "       '면적당 의료인수(상급+종합)', '면적당 의료인수(종합)', '면적당 의료인수(병원)', '면적당 의료인수(의원)',\n",
        "       '천명당 병상수', '천명당 요양기관수', \n",
        "       '천명당 요양기관수(상급)', '천명당 요양기관수(상급+종합)', '천명당 요양기관수(종합)',\n",
        "       '천명당 요양기관수(병원)', '천명당 요양기관수(의원)',\n",
        "       '면적당 요양기관수',\n",
        "       '면적당 요양기관수(상급)', '면적당 요양기관수(상급+종합)', '면적당 요양기관수(종합)', '면적당 요양기관수(병원)',\n",
        "       '면적당 요양기관수(의원)',  \n",
        "]]"
      ],
      "execution_count": null,
      "outputs": []
    },
    {
      "cell_type": "code",
      "metadata": {
        "id": "Elb4-czkF2If"
      },
      "source": [
        ""
      ],
      "execution_count": null,
      "outputs": []
    },
    {
      "cell_type": "code",
      "metadata": {
        "id": "a_4_PjhxA_z6"
      },
      "source": [
        "df.to_csv('컬럼정리.csv')"
      ],
      "execution_count": null,
      "outputs": []
    },
    {
      "cell_type": "code",
      "metadata": {
        "id": "YWAwKN-IA_xb"
      },
      "source": [
        ""
      ],
      "execution_count": null,
      "outputs": []
    },
    {
      "cell_type": "code",
      "metadata": {
        "id": "NrU6orrGA_ug"
      },
      "source": [
        ""
      ],
      "execution_count": null,
      "outputs": []
    },
    {
      "cell_type": "code",
      "metadata": {
        "id": "_rOuQn-fmBPr"
      },
      "source": [
        ""
      ],
      "execution_count": null,
      "outputs": []
    },
    {
      "cell_type": "code",
      "metadata": {
        "id": "3A6ew0Nvuj64"
      },
      "source": [
        ""
      ],
      "execution_count": null,
      "outputs": []
    },
    {
      "cell_type": "code",
      "metadata": {
        "id": "nOnHLcCWuj4S"
      },
      "source": [
        ""
      ],
      "execution_count": null,
      "outputs": []
    },
    {
      "cell_type": "code",
      "metadata": {
        "id": "C4zyRza1uj1p"
      },
      "source": [
        ""
      ],
      "execution_count": null,
      "outputs": []
    },
    {
      "cell_type": "code",
      "metadata": {
        "id": "MwDpvEfTujzE"
      },
      "source": [
        ""
      ],
      "execution_count": null,
      "outputs": []
    },
    {
      "cell_type": "code",
      "metadata": {
        "id": "B2YTHubDujwR"
      },
      "source": [
        ""
      ],
      "execution_count": null,
      "outputs": []
    },
    {
      "cell_type": "code",
      "metadata": {
        "id": "JaHun8Jfujth"
      },
      "source": [
        ""
      ],
      "execution_count": null,
      "outputs": []
    },
    {
      "cell_type": "code",
      "metadata": {
        "id": "fwYTGg2mujrC"
      },
      "source": [
        ""
      ],
      "execution_count": null,
      "outputs": []
    },
    {
      "cell_type": "code",
      "metadata": {
        "id": "sMBRGlXFujoc"
      },
      "source": [
        ""
      ],
      "execution_count": null,
      "outputs": []
    },
    {
      "cell_type": "code",
      "metadata": {
        "id": "jP2B23HWujlr"
      },
      "source": [
        ""
      ],
      "execution_count": null,
      "outputs": []
    },
    {
      "cell_type": "code",
      "metadata": {
        "id": "p9tJhOlAujjc"
      },
      "source": [
        ""
      ],
      "execution_count": null,
      "outputs": []
    },
    {
      "cell_type": "code",
      "metadata": {
        "id": "mwkc5kJFujf1"
      },
      "source": [
        ""
      ],
      "execution_count": null,
      "outputs": []
    },
    {
      "cell_type": "markdown",
      "metadata": {
        "id": "CZD9yeBFJWVC"
      },
      "source": [
        "## 상관계수 확인"
      ]
    },
    {
      "cell_type": "code",
      "metadata": {
        "colab": {
          "base_uri": "https://localhost:8080/"
        },
        "id": "W8Q2NljLUMG6",
        "outputId": "181c29d7-419c-436f-8a24-819c44eab451"
      },
      "source": [
        "df.columns"
      ],
      "execution_count": null,
      "outputs": [
        {
          "output_type": "execute_result",
          "data": {
            "text/plain": [
              "Index(['시도코드', '시도명', '십만명당 회피가능사망수', '총 인구', '주민등록인구', '면적(2019)',\n",
              "       '인구당 요양급여비', '인구당 입내원일수', '천명당 의료인수', '천명당 의사수', '천명당 간호사수', '면적당 의료인수',\n",
              "       '면적당 의료인수(상급)', '면적당 의료인수(상급+종합)', '면적당 의료인수(종합)', '면적당 의료인수(병원)',\n",
              "       '면적당 의료인수(의원)', '천명당 병상수', '천명당 요양기관수', '천명당 요양기관수(상급)',\n",
              "       '천명당 요양기관수(상급+종합)', '천명당 요양기관수(종합)', '천명당 요양기관수(병원)', '천명당 요양기관수(의원)',\n",
              "       '면적당 요양기관수', '면적당 요양기관수(상급)', '면적당 요양기관수(상급+종합)', '면적당 요양기관수(종합)',\n",
              "       '면적당 요양기관수(병원)', '면적당 요양기관수(의원)'],\n",
              "      dtype='object')"
            ]
          },
          "metadata": {},
          "execution_count": 270
        }
      ]
    },
    {
      "cell_type": "code",
      "metadata": {
        "id": "OHsOFxdiH6fq"
      },
      "source": [
        "df1 = df[['십만명당 회피가능사망수', '인구당 요양급여비', '인구당 입내원일수' ]]    # 비용\n",
        "df2 = df[['십만명당 회피가능사망수', '천명당 의료인수', '천명당 의사수', '천명당 간호사수', '면적당 의료인수',\n",
        "       '면적당 의료인수(상급)', '면적당 의료인수(상급+종합)', '면적당 의료인수(종합)', '면적당 의료인수(병원)',\n",
        "       '면적당 의료인수(의원)']]    # 인력\n",
        "df3 = df[['십만명당 회피가능사망수', '천명당 병상수', '천명당 요양기관수', '천명당 요양기관수(상급)',\n",
        "       '천명당 요양기관수(상급+종합)', '천명당 요양기관수(종합)', '천명당 요양기관수(병원)', '천명당 요양기관수(의원)',\n",
        "       '면적당 요양기관수', '면적당 요양기관수(상급)', '면적당 요양기관수(상급+종합)', '면적당 요양기관수(종합)',\n",
        "       '면적당 요양기관수(병원)', '면적당 요양기관수(의원)']]  # 시설"
      ],
      "execution_count": null,
      "outputs": []
    },
    {
      "cell_type": "code",
      "metadata": {
        "colab": {
          "base_uri": "https://localhost:8080/",
          "height": 144
        },
        "id": "5WoQT_-jdGSq",
        "outputId": "5b406802-d741-49a0-da4e-3ba5e4d7e522"
      },
      "source": [
        "df1.corr(method='pearson')"
      ],
      "execution_count": null,
      "outputs": [
        {
          "output_type": "execute_result",
          "data": {
            "text/html": [
              "<div>\n",
              "<style scoped>\n",
              "    .dataframe tbody tr th:only-of-type {\n",
              "        vertical-align: middle;\n",
              "    }\n",
              "\n",
              "    .dataframe tbody tr th {\n",
              "        vertical-align: top;\n",
              "    }\n",
              "\n",
              "    .dataframe thead th {\n",
              "        text-align: right;\n",
              "    }\n",
              "</style>\n",
              "<table border=\"1\" class=\"dataframe\">\n",
              "  <thead>\n",
              "    <tr style=\"text-align: right;\">\n",
              "      <th></th>\n",
              "      <th>십만명당 회피가능사망수</th>\n",
              "      <th>인구당 요양급여비</th>\n",
              "      <th>인구당 입내원일수</th>\n",
              "    </tr>\n",
              "  </thead>\n",
              "  <tbody>\n",
              "    <tr>\n",
              "      <th>십만명당 회피가능사망수</th>\n",
              "      <td>1.000000</td>\n",
              "      <td>0.811950</td>\n",
              "      <td>0.776929</td>\n",
              "    </tr>\n",
              "    <tr>\n",
              "      <th>인구당 요양급여비</th>\n",
              "      <td>0.811950</td>\n",
              "      <td>1.000000</td>\n",
              "      <td>0.901911</td>\n",
              "    </tr>\n",
              "    <tr>\n",
              "      <th>인구당 입내원일수</th>\n",
              "      <td>0.776929</td>\n",
              "      <td>0.901911</td>\n",
              "      <td>1.000000</td>\n",
              "    </tr>\n",
              "  </tbody>\n",
              "</table>\n",
              "</div>"
            ],
            "text/plain": [
              "              십만명당 회피가능사망수  인구당 요양급여비  인구당 입내원일수\n",
              "십만명당 회피가능사망수      1.000000   0.811950   0.776929\n",
              "인구당 요양급여비         0.811950   1.000000   0.901911\n",
              "인구당 입내원일수         0.776929   0.901911   1.000000"
            ]
          },
          "metadata": {},
          "execution_count": 274
        }
      ]
    },
    {
      "cell_type": "code",
      "metadata": {
        "colab": {
          "base_uri": "https://localhost:8080/",
          "height": 485
        },
        "id": "jhnJg26GILbA",
        "outputId": "9d01f6f7-712a-458d-a948-19f1d68a3f57"
      },
      "source": [
        "df2.corr(method='pearson')"
      ],
      "execution_count": null,
      "outputs": [
        {
          "output_type": "execute_result",
          "data": {
            "text/html": [
              "<div>\n",
              "<style scoped>\n",
              "    .dataframe tbody tr th:only-of-type {\n",
              "        vertical-align: middle;\n",
              "    }\n",
              "\n",
              "    .dataframe tbody tr th {\n",
              "        vertical-align: top;\n",
              "    }\n",
              "\n",
              "    .dataframe thead th {\n",
              "        text-align: right;\n",
              "    }\n",
              "</style>\n",
              "<table border=\"1\" class=\"dataframe\">\n",
              "  <thead>\n",
              "    <tr style=\"text-align: right;\">\n",
              "      <th></th>\n",
              "      <th>십만명당 회피가능사망수</th>\n",
              "      <th>천명당 의료인수</th>\n",
              "      <th>천명당 의사수</th>\n",
              "      <th>천명당 간호사수</th>\n",
              "      <th>면적당 의료인수</th>\n",
              "      <th>면적당 의료인수(상급)</th>\n",
              "      <th>면적당 의료인수(상급+종합)</th>\n",
              "      <th>면적당 의료인수(종합)</th>\n",
              "      <th>면적당 의료인수(병원)</th>\n",
              "      <th>면적당 의료인수(의원)</th>\n",
              "    </tr>\n",
              "  </thead>\n",
              "  <tbody>\n",
              "    <tr>\n",
              "      <th>십만명당 회피가능사망수</th>\n",
              "      <td>1.000000</td>\n",
              "      <td>0.051419</td>\n",
              "      <td>-0.108371</td>\n",
              "      <td>0.152809</td>\n",
              "      <td>-0.326988</td>\n",
              "      <td>-0.262505</td>\n",
              "      <td>-0.317304</td>\n",
              "      <td>-0.335571</td>\n",
              "      <td>-0.371248</td>\n",
              "      <td>-0.314825</td>\n",
              "    </tr>\n",
              "    <tr>\n",
              "      <th>천명당 의료인수</th>\n",
              "      <td>0.051419</td>\n",
              "      <td>1.000000</td>\n",
              "      <td>0.935712</td>\n",
              "      <td>0.976004</td>\n",
              "      <td>0.317051</td>\n",
              "      <td>0.422918</td>\n",
              "      <td>0.338565</td>\n",
              "      <td>0.207979</td>\n",
              "      <td>0.304749</td>\n",
              "      <td>0.253385</td>\n",
              "    </tr>\n",
              "    <tr>\n",
              "      <th>천명당 의사수</th>\n",
              "      <td>-0.108371</td>\n",
              "      <td>0.935712</td>\n",
              "      <td>1.000000</td>\n",
              "      <td>0.849739</td>\n",
              "      <td>0.510019</td>\n",
              "      <td>0.639245</td>\n",
              "      <td>0.538617</td>\n",
              "      <td>0.366144</td>\n",
              "      <td>0.451111</td>\n",
              "      <td>0.446851</td>\n",
              "    </tr>\n",
              "    <tr>\n",
              "      <th>천명당 간호사수</th>\n",
              "      <td>0.152809</td>\n",
              "      <td>0.976004</td>\n",
              "      <td>0.849739</td>\n",
              "      <td>1.000000</td>\n",
              "      <td>0.220722</td>\n",
              "      <td>0.316554</td>\n",
              "      <td>0.239423</td>\n",
              "      <td>0.128711</td>\n",
              "      <td>0.222806</td>\n",
              "      <td>0.160027</td>\n",
              "    </tr>\n",
              "    <tr>\n",
              "      <th>면적당 의료인수</th>\n",
              "      <td>-0.326988</td>\n",
              "      <td>0.317051</td>\n",
              "      <td>0.510019</td>\n",
              "      <td>0.220722</td>\n",
              "      <td>1.000000</td>\n",
              "      <td>0.914690</td>\n",
              "      <td>0.996778</td>\n",
              "      <td>0.959532</td>\n",
              "      <td>0.956489</td>\n",
              "      <td>0.995536</td>\n",
              "    </tr>\n",
              "    <tr>\n",
              "      <th>면적당 의료인수(상급)</th>\n",
              "      <td>-0.262505</td>\n",
              "      <td>0.422918</td>\n",
              "      <td>0.639245</td>\n",
              "      <td>0.316554</td>\n",
              "      <td>0.914690</td>\n",
              "      <td>1.000000</td>\n",
              "      <td>0.942596</td>\n",
              "      <td>0.765487</td>\n",
              "      <td>0.775320</td>\n",
              "      <td>0.884816</td>\n",
              "    </tr>\n",
              "    <tr>\n",
              "      <th>면적당 의료인수(상급+종합)</th>\n",
              "      <td>-0.317304</td>\n",
              "      <td>0.338565</td>\n",
              "      <td>0.538617</td>\n",
              "      <td>0.239423</td>\n",
              "      <td>0.996778</td>\n",
              "      <td>0.942596</td>\n",
              "      <td>1.000000</td>\n",
              "      <td>0.936416</td>\n",
              "      <td>0.932086</td>\n",
              "      <td>0.987280</td>\n",
              "    </tr>\n",
              "    <tr>\n",
              "      <th>면적당 의료인수(종합)</th>\n",
              "      <td>-0.335571</td>\n",
              "      <td>0.207979</td>\n",
              "      <td>0.366144</td>\n",
              "      <td>0.128711</td>\n",
              "      <td>0.959532</td>\n",
              "      <td>0.765487</td>\n",
              "      <td>0.936416</td>\n",
              "      <td>1.000000</td>\n",
              "      <td>0.981324</td>\n",
              "      <td>0.972620</td>\n",
              "    </tr>\n",
              "    <tr>\n",
              "      <th>면적당 의료인수(병원)</th>\n",
              "      <td>-0.371248</td>\n",
              "      <td>0.304749</td>\n",
              "      <td>0.451111</td>\n",
              "      <td>0.222806</td>\n",
              "      <td>0.956489</td>\n",
              "      <td>0.775320</td>\n",
              "      <td>0.932086</td>\n",
              "      <td>0.981324</td>\n",
              "      <td>1.000000</td>\n",
              "      <td>0.960497</td>\n",
              "    </tr>\n",
              "    <tr>\n",
              "      <th>면적당 의료인수(의원)</th>\n",
              "      <td>-0.314825</td>\n",
              "      <td>0.253385</td>\n",
              "      <td>0.446851</td>\n",
              "      <td>0.160027</td>\n",
              "      <td>0.995536</td>\n",
              "      <td>0.884816</td>\n",
              "      <td>0.987280</td>\n",
              "      <td>0.972620</td>\n",
              "      <td>0.960497</td>\n",
              "      <td>1.000000</td>\n",
              "    </tr>\n",
              "  </tbody>\n",
              "</table>\n",
              "</div>"
            ],
            "text/plain": [
              "                 십만명당 회피가능사망수  천명당 의료인수  ...  면적당 의료인수(병원)  면적당 의료인수(의원)\n",
              "십만명당 회피가능사망수         1.000000  0.051419  ...     -0.371248     -0.314825\n",
              "천명당 의료인수             0.051419  1.000000  ...      0.304749      0.253385\n",
              "천명당 의사수             -0.108371  0.935712  ...      0.451111      0.446851\n",
              "천명당 간호사수             0.152809  0.976004  ...      0.222806      0.160027\n",
              "면적당 의료인수            -0.326988  0.317051  ...      0.956489      0.995536\n",
              "면적당 의료인수(상급)        -0.262505  0.422918  ...      0.775320      0.884816\n",
              "면적당 의료인수(상급+종합)     -0.317304  0.338565  ...      0.932086      0.987280\n",
              "면적당 의료인수(종합)        -0.335571  0.207979  ...      0.981324      0.972620\n",
              "면적당 의료인수(병원)        -0.371248  0.304749  ...      1.000000      0.960497\n",
              "면적당 의료인수(의원)        -0.314825  0.253385  ...      0.960497      1.000000\n",
              "\n",
              "[10 rows x 10 columns]"
            ]
          },
          "metadata": {},
          "execution_count": 275
        }
      ]
    },
    {
      "cell_type": "code",
      "metadata": {
        "colab": {
          "base_uri": "https://localhost:8080/",
          "height": 1000
        },
        "id": "-1dTWfbgILU8",
        "outputId": "5419d667-d568-45d7-cb16-8c6d7552aa9e"
      },
      "source": [
        "df3.corr(method='pearson')"
      ],
      "execution_count": null,
      "outputs": [
        {
          "output_type": "execute_result",
          "data": {
            "text/html": [
              "<div>\n",
              "<style scoped>\n",
              "    .dataframe tbody tr th:only-of-type {\n",
              "        vertical-align: middle;\n",
              "    }\n",
              "\n",
              "    .dataframe tbody tr th {\n",
              "        vertical-align: top;\n",
              "    }\n",
              "\n",
              "    .dataframe thead th {\n",
              "        text-align: right;\n",
              "    }\n",
              "</style>\n",
              "<table border=\"1\" class=\"dataframe\">\n",
              "  <thead>\n",
              "    <tr style=\"text-align: right;\">\n",
              "      <th></th>\n",
              "      <th>십만명당 회피가능사망수</th>\n",
              "      <th>천명당 병상수</th>\n",
              "      <th>천명당 요양기관수</th>\n",
              "      <th>천명당 요양기관수(상급)</th>\n",
              "      <th>천명당 요양기관수(상급+종합)</th>\n",
              "      <th>천명당 요양기관수(종합)</th>\n",
              "      <th>천명당 요양기관수(병원)</th>\n",
              "      <th>천명당 요양기관수(의원)</th>\n",
              "      <th>면적당 요양기관수</th>\n",
              "      <th>면적당 요양기관수(상급)</th>\n",
              "      <th>면적당 요양기관수(상급+종합)</th>\n",
              "      <th>면적당 요양기관수(종합)</th>\n",
              "      <th>면적당 요양기관수(병원)</th>\n",
              "      <th>면적당 요양기관수(의원)</th>\n",
              "    </tr>\n",
              "  </thead>\n",
              "  <tbody>\n",
              "    <tr>\n",
              "      <th>십만명당 회피가능사망수</th>\n",
              "      <td>1.000000</td>\n",
              "      <td>0.345836</td>\n",
              "      <td>-0.288016</td>\n",
              "      <td>-0.068854</td>\n",
              "      <td>0.504715</td>\n",
              "      <td>0.526953</td>\n",
              "      <td>0.241494</td>\n",
              "      <td>-0.256003</td>\n",
              "      <td>-0.323910</td>\n",
              "      <td>-0.317065</td>\n",
              "      <td>-0.359336</td>\n",
              "      <td>-0.355018</td>\n",
              "      <td>-0.368632</td>\n",
              "      <td>-0.320212</td>\n",
              "    </tr>\n",
              "    <tr>\n",
              "      <th>천명당 병상수</th>\n",
              "      <td>0.345836</td>\n",
              "      <td>1.000000</td>\n",
              "      <td>0.060237</td>\n",
              "      <td>0.413106</td>\n",
              "      <td>0.719283</td>\n",
              "      <td>0.648103</td>\n",
              "      <td>0.899999</td>\n",
              "      <td>0.014153</td>\n",
              "      <td>-0.246091</td>\n",
              "      <td>-0.175790</td>\n",
              "      <td>-0.116473</td>\n",
              "      <td>-0.102959</td>\n",
              "      <td>-0.118782</td>\n",
              "      <td>-0.252070</td>\n",
              "    </tr>\n",
              "    <tr>\n",
              "      <th>천명당 요양기관수</th>\n",
              "      <td>-0.288016</td>\n",
              "      <td>0.060237</td>\n",
              "      <td>1.000000</td>\n",
              "      <td>0.548016</td>\n",
              "      <td>0.042931</td>\n",
              "      <td>-0.066630</td>\n",
              "      <td>0.185918</td>\n",
              "      <td>0.986200</td>\n",
              "      <td>0.352523</td>\n",
              "      <td>0.596306</td>\n",
              "      <td>0.300945</td>\n",
              "      <td>0.242454</td>\n",
              "      <td>0.307628</td>\n",
              "      <td>0.353463</td>\n",
              "    </tr>\n",
              "    <tr>\n",
              "      <th>천명당 요양기관수(상급)</th>\n",
              "      <td>-0.068854</td>\n",
              "      <td>0.413106</td>\n",
              "      <td>0.548016</td>\n",
              "      <td>1.000000</td>\n",
              "      <td>0.180835</td>\n",
              "      <td>-0.017386</td>\n",
              "      <td>0.530787</td>\n",
              "      <td>0.566118</td>\n",
              "      <td>0.192660</td>\n",
              "      <td>0.436030</td>\n",
              "      <td>0.208034</td>\n",
              "      <td>0.163649</td>\n",
              "      <td>0.228409</td>\n",
              "      <td>0.190802</td>\n",
              "    </tr>\n",
              "    <tr>\n",
              "      <th>천명당 요양기관수(상급+종합)</th>\n",
              "      <td>0.504715</td>\n",
              "      <td>0.719283</td>\n",
              "      <td>0.042931</td>\n",
              "      <td>0.180835</td>\n",
              "      <td>1.000000</td>\n",
              "      <td>0.980221</td>\n",
              "      <td>0.641536</td>\n",
              "      <td>-0.018408</td>\n",
              "      <td>-0.277994</td>\n",
              "      <td>-0.194720</td>\n",
              "      <td>-0.151372</td>\n",
              "      <td>-0.139407</td>\n",
              "      <td>-0.193742</td>\n",
              "      <td>-0.282341</td>\n",
              "    </tr>\n",
              "    <tr>\n",
              "      <th>천명당 요양기관수(종합)</th>\n",
              "      <td>0.526953</td>\n",
              "      <td>0.648103</td>\n",
              "      <td>-0.066630</td>\n",
              "      <td>-0.017386</td>\n",
              "      <td>0.980221</td>\n",
              "      <td>1.000000</td>\n",
              "      <td>0.545384</td>\n",
              "      <td>-0.132630</td>\n",
              "      <td>-0.321379</td>\n",
              "      <td>-0.285694</td>\n",
              "      <td>-0.195747</td>\n",
              "      <td>-0.174652</td>\n",
              "      <td>-0.242921</td>\n",
              "      <td>-0.325424</td>\n",
              "    </tr>\n",
              "    <tr>\n",
              "      <th>천명당 요양기관수(병원)</th>\n",
              "      <td>0.241494</td>\n",
              "      <td>0.899999</td>\n",
              "      <td>0.185918</td>\n",
              "      <td>0.530787</td>\n",
              "      <td>0.641536</td>\n",
              "      <td>0.545384</td>\n",
              "      <td>1.000000</td>\n",
              "      <td>0.161435</td>\n",
              "      <td>-0.120209</td>\n",
              "      <td>-0.017754</td>\n",
              "      <td>-0.023751</td>\n",
              "      <td>-0.023996</td>\n",
              "      <td>-0.002915</td>\n",
              "      <td>-0.125837</td>\n",
              "    </tr>\n",
              "    <tr>\n",
              "      <th>천명당 요양기관수(의원)</th>\n",
              "      <td>-0.256003</td>\n",
              "      <td>0.014153</td>\n",
              "      <td>0.986200</td>\n",
              "      <td>0.566118</td>\n",
              "      <td>-0.018408</td>\n",
              "      <td>-0.132630</td>\n",
              "      <td>0.161435</td>\n",
              "      <td>1.000000</td>\n",
              "      <td>0.448094</td>\n",
              "      <td>0.685754</td>\n",
              "      <td>0.376413</td>\n",
              "      <td>0.313223</td>\n",
              "      <td>0.385679</td>\n",
              "      <td>0.449891</td>\n",
              "    </tr>\n",
              "    <tr>\n",
              "      <th>면적당 요양기관수</th>\n",
              "      <td>-0.323910</td>\n",
              "      <td>-0.246091</td>\n",
              "      <td>0.352523</td>\n",
              "      <td>0.192660</td>\n",
              "      <td>-0.277994</td>\n",
              "      <td>-0.321379</td>\n",
              "      <td>-0.120209</td>\n",
              "      <td>0.448094</td>\n",
              "      <td>1.000000</td>\n",
              "      <td>0.906817</td>\n",
              "      <td>0.968365</td>\n",
              "      <td>0.948039</td>\n",
              "      <td>0.963809</td>\n",
              "      <td>0.999905</td>\n",
              "    </tr>\n",
              "    <tr>\n",
              "      <th>면적당 요양기관수(상급)</th>\n",
              "      <td>-0.317065</td>\n",
              "      <td>-0.175790</td>\n",
              "      <td>0.596306</td>\n",
              "      <td>0.436030</td>\n",
              "      <td>-0.194720</td>\n",
              "      <td>-0.285694</td>\n",
              "      <td>-0.017754</td>\n",
              "      <td>0.685754</td>\n",
              "      <td>0.906817</td>\n",
              "      <td>1.000000</td>\n",
              "      <td>0.835080</td>\n",
              "      <td>0.781387</td>\n",
              "      <td>0.823204</td>\n",
              "      <td>0.909306</td>\n",
              "    </tr>\n",
              "    <tr>\n",
              "      <th>면적당 요양기관수(상급+종합)</th>\n",
              "      <td>-0.359336</td>\n",
              "      <td>-0.116473</td>\n",
              "      <td>0.300945</td>\n",
              "      <td>0.208034</td>\n",
              "      <td>-0.151372</td>\n",
              "      <td>-0.195747</td>\n",
              "      <td>-0.023751</td>\n",
              "      <td>0.376413</td>\n",
              "      <td>0.968365</td>\n",
              "      <td>0.835080</td>\n",
              "      <td>1.000000</td>\n",
              "      <td>0.995826</td>\n",
              "      <td>0.993579</td>\n",
              "      <td>0.965069</td>\n",
              "    </tr>\n",
              "    <tr>\n",
              "      <th>면적당 요양기관수(종합)</th>\n",
              "      <td>-0.355018</td>\n",
              "      <td>-0.102959</td>\n",
              "      <td>0.242454</td>\n",
              "      <td>0.163649</td>\n",
              "      <td>-0.139407</td>\n",
              "      <td>-0.174652</td>\n",
              "      <td>-0.023996</td>\n",
              "      <td>0.313223</td>\n",
              "      <td>0.948039</td>\n",
              "      <td>0.781387</td>\n",
              "      <td>0.995826</td>\n",
              "      <td>1.000000</td>\n",
              "      <td>0.990512</td>\n",
              "      <td>0.943887</td>\n",
              "    </tr>\n",
              "    <tr>\n",
              "      <th>면적당 요양기관수(병원)</th>\n",
              "      <td>-0.368632</td>\n",
              "      <td>-0.118782</td>\n",
              "      <td>0.307628</td>\n",
              "      <td>0.228409</td>\n",
              "      <td>-0.193742</td>\n",
              "      <td>-0.242921</td>\n",
              "      <td>-0.002915</td>\n",
              "      <td>0.385679</td>\n",
              "      <td>0.963809</td>\n",
              "      <td>0.823204</td>\n",
              "      <td>0.993579</td>\n",
              "      <td>0.990512</td>\n",
              "      <td>1.000000</td>\n",
              "      <td>0.960102</td>\n",
              "    </tr>\n",
              "    <tr>\n",
              "      <th>면적당 요양기관수(의원)</th>\n",
              "      <td>-0.320212</td>\n",
              "      <td>-0.252070</td>\n",
              "      <td>0.353463</td>\n",
              "      <td>0.190802</td>\n",
              "      <td>-0.282341</td>\n",
              "      <td>-0.325424</td>\n",
              "      <td>-0.125837</td>\n",
              "      <td>0.449891</td>\n",
              "      <td>0.999905</td>\n",
              "      <td>0.909306</td>\n",
              "      <td>0.965069</td>\n",
              "      <td>0.943887</td>\n",
              "      <td>0.960102</td>\n",
              "      <td>1.000000</td>\n",
              "    </tr>\n",
              "  </tbody>\n",
              "</table>\n",
              "</div>"
            ],
            "text/plain": [
              "                  십만명당 회피가능사망수   천명당 병상수  ...  면적당 요양기관수(병원)  면적당 요양기관수(의원)\n",
              "십만명당 회피가능사망수          1.000000  0.345836  ...      -0.368632      -0.320212\n",
              "천명당 병상수               0.345836  1.000000  ...      -0.118782      -0.252070\n",
              "천명당 요양기관수            -0.288016  0.060237  ...       0.307628       0.353463\n",
              "천명당 요양기관수(상급)        -0.068854  0.413106  ...       0.228409       0.190802\n",
              "천명당 요양기관수(상급+종합)      0.504715  0.719283  ...      -0.193742      -0.282341\n",
              "천명당 요양기관수(종합)         0.526953  0.648103  ...      -0.242921      -0.325424\n",
              "천명당 요양기관수(병원)         0.241494  0.899999  ...      -0.002915      -0.125837\n",
              "천명당 요양기관수(의원)        -0.256003  0.014153  ...       0.385679       0.449891\n",
              "면적당 요양기관수            -0.323910 -0.246091  ...       0.963809       0.999905\n",
              "면적당 요양기관수(상급)        -0.317065 -0.175790  ...       0.823204       0.909306\n",
              "면적당 요양기관수(상급+종합)     -0.359336 -0.116473  ...       0.993579       0.965069\n",
              "면적당 요양기관수(종합)        -0.355018 -0.102959  ...       0.990512       0.943887\n",
              "면적당 요양기관수(병원)        -0.368632 -0.118782  ...       1.000000       0.960102\n",
              "면적당 요양기관수(의원)        -0.320212 -0.252070  ...       0.960102       1.000000\n",
              "\n",
              "[14 rows x 14 columns]"
            ]
          },
          "metadata": {},
          "execution_count": 276
        }
      ]
    },
    {
      "cell_type": "code",
      "metadata": {
        "id": "-zu8xfn0ILPl"
      },
      "source": [
        ""
      ],
      "execution_count": null,
      "outputs": []
    },
    {
      "cell_type": "code",
      "metadata": {
        "id": "LoVmq_xtILMJ"
      },
      "source": [
        ""
      ],
      "execution_count": null,
      "outputs": []
    },
    {
      "cell_type": "code",
      "metadata": {
        "colab": {
          "base_uri": "https://localhost:8080/",
          "height": 451
        },
        "id": "57pmn-BNUMEc",
        "outputId": "7bf56fc9-3e59-4cc4-e6f6-fe43c3c0cc8d"
      },
      "source": [
        "plt.rcParams[\"figure.figsize\"] = (7,7)\n",
        "sns.heatmap(df1.corr(),\n",
        "           annot = True, cmap = 'PuBu', )"
      ],
      "execution_count": null,
      "outputs": [
        {
          "output_type": "execute_result",
          "data": {
            "text/plain": [
              "<matplotlib.axes._subplots.AxesSubplot at 0x7f8024ed2050>"
            ]
          },
          "metadata": {},
          "execution_count": 277
        },
        {
          "output_type": "display_data",
          "data": {
            "image/png": "[encoded data removed]",
            "text/plain": [
              "<Figure size 504x504 with 2 Axes>"
            ]
          },
          "metadata": {
            "needs_background": "light"
          }
        }
      ]
    },
    {
      "cell_type": "code",
      "metadata": {
        "colab": {
          "base_uri": "https://localhost:8080/",
          "height": 560
        },
        "id": "mvYLFkXjIu6H",
        "outputId": "c948ebe5-75cb-48f3-db9f-60a305184470"
      },
      "source": [
        "plt.rcParams[\"figure.figsize\"] = (7,7)\n",
        "sns.heatmap(df2.corr(),\n",
        "           annot = True, cmap = 'PuBu', )"
      ],
      "execution_count": null,
      "outputs": [
        {
          "output_type": "execute_result",
          "data": {
            "text/plain": [
              "<matplotlib.axes._subplots.AxesSubplot at 0x7f8024ef8890>"
            ]
          },
          "metadata": {},
          "execution_count": 278
        },
        {
          "output_type": "display_data",
          "data": {
            "image/png": "[encoded data removed]",
            "text/plain": [
              "<Figure size 504x504 with 2 Axes>"
            ]
          },
          "metadata": {
            "needs_background": "light"
          }
        }
      ]
    },
    {
      "cell_type": "code",
      "metadata": {
        "colab": {
          "base_uri": "https://localhost:8080/",
          "height": 570
        },
        "id": "czPhEGDYIuuN",
        "outputId": "2afd34b2-dbee-41f1-d150-8e0e8776ebbb"
      },
      "source": [
        "plt.rcParams[\"figure.figsize\"] = (7,7)\n",
        "sns.heatmap(df3.corr(),\n",
        "           annot = True, cmap = 'PuBu', )"
      ],
      "execution_count": null,
      "outputs": [
        {
          "output_type": "execute_result",
          "data": {
            "text/plain": [
              "<matplotlib.axes._subplots.AxesSubplot at 0x7f8023532d50>"
            ]
          },
          "metadata": {},
          "execution_count": 279
        },
        {
          "output_type": "display_data",
          "data": {
            "image/png": "[encoded data removed]",
            "text/plain": [
              "<Figure size 504x504 with 2 Axes>"
            ]
          },
          "metadata": {
            "needs_background": "light"
          }
        }
      ]
    },
    {
      "cell_type": "code",
      "metadata": {
        "id": "VesbvaBhIuny"
      },
      "source": [
        ""
      ],
      "execution_count": null,
      "outputs": []
    }
  ]
}