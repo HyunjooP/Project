{
  "nbformat": 4,
  "nbformat_minor": 0,
  "metadata": {
    "colab": {
      "name": "전처리_회피가능사망율.ipynb",
      "provenance": [],
      "collapsed_sections": []
    },
    "kernelspec": {
      "name": "python3",
      "display_name": "Python 3"
    },
    "language_info": {
      "name": "python"
    }
  },
  "cells": [
    {
      "cell_type": "code",
      "metadata": {
        "colab": {
          "base_uri": "https://localhost:8080/"
        },
        "id": "YeuTRnY69rTP",
        "outputId": "a708c2f4-023e-45b6-8a84-8cc0319c4d03"
      },
      "source": [
        "from google.colab import drive\n",
        "drive.mount('/gdrive', force_remount=True)"
      ],
      "execution_count": null,
      "outputs": [
        {
          "output_type": "stream",
          "name": "stdout",
          "text": [
            "Mounted at /gdrive\n"
          ]
        }
      ]
    },
    {
      "cell_type": "code",
      "metadata": {
        "id": "Ci2yNItoyCL2"
      },
      "source": [
        "import pandas as pd\n",
        "import numpy as np\n",
        "import seaborn as sns\n",
        "import matplotlib as mpl\n",
        "import matplotlib.pyplot as plt"
      ],
      "execution_count": null,
      "outputs": []
    },
    {
      "cell_type": "code",
      "metadata": {
        "colab": {
          "base_uri": "https://localhost:8080/"
        },
        "id": "JG43lZllyINi",
        "outputId": "3d30c5ca-abcf-4fe3-f224-e1c2173d5d15"
      },
      "source": [
        "from google.colab import drive\n",
        "drive.mount('/content/drive')"
      ],
      "execution_count": null,
      "outputs": [
        {
          "output_type": "stream",
          "name": "stdout",
          "text": [
            "Mounted at /content/drive\n"
          ]
        }
      ]
    },
    {
      "cell_type": "markdown",
      "metadata": {
        "id": "vixeJvPwwqo5"
      },
      "source": [
        "- 의료지도 데이터"
      ]
    },
    {
      "cell_type": "code",
      "metadata": {
        "colab": {
          "base_uri": "https://localhost:8080/",
          "height": 143
        },
        "id": "aOP5gyDAyJHS",
        "outputId": "583587f1-20b7-4909-bcbf-772561479ee0"
      },
      "source": [
        "df1 = '/content/drive/MyDrive/4조_헬스케어/자료파일/raw_data/중증도보정입원의료사망비.csv'\n",
        "df1 = pd.read_csv(df1, encoding=\"euc-kr\")\n",
        "df1.head(3)"
      ],
      "execution_count": null,
      "outputs": [
        {
          "output_type": "execute_result",
          "data": {
            "text/html": [
              "<div>\n",
              "<style scoped>\n",
              "    .dataframe tbody tr th:only-of-type {\n",
              "        vertical-align: middle;\n",
              "    }\n",
              "\n",
              "    .dataframe tbody tr th {\n",
              "        vertical-align: top;\n",
              "    }\n",
              "\n",
              "    .dataframe thead th {\n",
              "        text-align: right;\n",
              "    }\n",
              "</style>\n",
              "<table border=\"1\" class=\"dataframe\">\n",
              "  <thead>\n",
              "    <tr style=\"text-align: right;\">\n",
              "      <th></th>\n",
              "      <th>지표연도</th>\n",
              "      <th>\\t시도코드</th>\n",
              "      <th>\\t시도명</th>\n",
              "      <th>\\t구분</th>\n",
              "      <th>\\t성별</th>\n",
              "      <th>\\t연령대</th>\n",
              "      <th>\\t보험료구분</th>\n",
              "      <th>\\t이벤트건수</th>\n",
              "      <th>\\t대상자건수</th>\n",
              "      <th>\\t지표비율</th>\n",
              "      <th>\\t표준화율</th>\n",
              "    </tr>\n",
              "  </thead>\n",
              "  <tbody>\n",
              "    <tr>\n",
              "      <th>0</th>\n",
              "      <td>2017</td>\n",
              "      <td>11</td>\n",
              "      <td>\\t서울특별시</td>\n",
              "      <td>\\t권내</td>\n",
              "      <td>\\t전체</td>\n",
              "      <td>\\t전체</td>\n",
              "      <td>\\t전체</td>\n",
              "      <td>11955</td>\n",
              "      <td>14296</td>\n",
              "      <td>84.0</td>\n",
              "      <td>84.0</td>\n",
              "    </tr>\n",
              "    <tr>\n",
              "      <th>1</th>\n",
              "      <td>2019</td>\n",
              "      <td>11</td>\n",
              "      <td>\\t서울특별시</td>\n",
              "      <td>\\t권외</td>\n",
              "      <td>\\t전체</td>\n",
              "      <td>\\t전체</td>\n",
              "      <td>\\t전체</td>\n",
              "      <td>2599</td>\n",
              "      <td>2263</td>\n",
              "      <td>115.0</td>\n",
              "      <td>115.0</td>\n",
              "    </tr>\n",
              "    <tr>\n",
              "      <th>2</th>\n",
              "      <td>2019</td>\n",
              "      <td>11</td>\n",
              "      <td>\\t서울특별시</td>\n",
              "      <td>\\t권내</td>\n",
              "      <td>\\t전체</td>\n",
              "      <td>\\t전체</td>\n",
              "      <td>\\t전체</td>\n",
              "      <td>3792</td>\n",
              "      <td>4358</td>\n",
              "      <td>87.0</td>\n",
              "      <td>87.0</td>\n",
              "    </tr>\n",
              "  </tbody>\n",
              "</table>\n",
              "</div>"
            ],
            "text/plain": [
              "   지표연도  \\t시도코드    \\t시도명  \\t구분  \\t성별  ... \\t보험료구분 \\t이벤트건수  \\t대상자건수  \\t지표비율  \\t표준화율\n",
              "0  2017      11  \\t서울특별시  \\t권내  \\t전체  ...    \\t전체   11955    14296    84.0    84.0\n",
              "1  2019      11  \\t서울특별시  \\t권외  \\t전체  ...    \\t전체    2599     2263   115.0   115.0\n",
              "2  2019      11  \\t서울특별시  \\t권내  \\t전체  ...    \\t전체    3792     4358    87.0    87.0\n",
              "\n",
              "[3 rows x 11 columns]"
            ]
          },
          "metadata": {},
          "execution_count": 48
        }
      ]
    },
    {
      "cell_type": "code",
      "metadata": {
        "colab": {
          "base_uri": "https://localhost:8080/"
        },
        "id": "kGyYK9436HtP",
        "outputId": "b9d8567e-160f-4728-c513-a9d3b51f43cf"
      },
      "source": [
        "df1.columns"
      ],
      "execution_count": null,
      "outputs": [
        {
          "output_type": "execute_result",
          "data": {
            "text/plain": [
              "Index(['지표연도', '\\t시도코드', '\\t시도명', '\\t구분', '\\t성별', '\\t연령대', '\\t보험료구분',\n",
              "       '\\t이벤트건수', '\\t대상자건수', '\\t지표비율', '\\t표준화율'],\n",
              "      dtype='object')"
            ]
          },
          "metadata": {},
          "execution_count": 49
        }
      ]
    },
    {
      "cell_type": "code",
      "metadata": {
        "colab": {
          "base_uri": "https://localhost:8080/"
        },
        "id": "Z38wQyE9GT6P",
        "outputId": "ac4ebfb0-5e9b-4a86-ef53-83a07abfcc33"
      },
      "source": [
        "df1.info()"
      ],
      "execution_count": null,
      "outputs": [
        {
          "output_type": "stream",
          "name": "stdout",
          "text": [
            "<class 'pandas.core.frame.DataFrame'>\n",
            "RangeIndex: 453 entries, 0 to 452\n",
            "Data columns (total 11 columns):\n",
            " #   Column  Non-Null Count  Dtype  \n",
            "---  ------  --------------  -----  \n",
            " 0   지표연도    453 non-null    int64  \n",
            " 1   \t시도코드   453 non-null    int64  \n",
            " 2   \t시도명    453 non-null    object \n",
            " 3   \t구분     453 non-null    object \n",
            " 4   \t성별     453 non-null    object \n",
            " 5   \t연령대    453 non-null    object \n",
            " 6   \t보험료구분  453 non-null    object \n",
            " 7   \t이벤트건수  453 non-null    int64  \n",
            " 8   \t대상자건수  453 non-null    int64  \n",
            " 9   \t지표비율   453 non-null    float64\n",
            " 10  \t표준화율   453 non-null    float64\n",
            "dtypes: float64(2), int64(4), object(5)\n",
            "memory usage: 39.1+ KB\n"
          ]
        }
      ]
    },
    {
      "cell_type": "code",
      "metadata": {
        "colab": {
          "base_uri": "https://localhost:8080/",
          "height": 205
        },
        "id": "f2SLasZFHc_m",
        "outputId": "b1ef2ea3-ae22-47c4-9cd5-4a312f2eebb0"
      },
      "source": [
        "df1 = df1.replace(r'\\W+', '', regex=True)\n",
        "df1.head()"
      ],
      "execution_count": null,
      "outputs": [
        {
          "output_type": "execute_result",
          "data": {
            "text/html": [
              "<div>\n",
              "<style scoped>\n",
              "    .dataframe tbody tr th:only-of-type {\n",
              "        vertical-align: middle;\n",
              "    }\n",
              "\n",
              "    .dataframe tbody tr th {\n",
              "        vertical-align: top;\n",
              "    }\n",
              "\n",
              "    .dataframe thead th {\n",
              "        text-align: right;\n",
              "    }\n",
              "</style>\n",
              "<table border=\"1\" class=\"dataframe\">\n",
              "  <thead>\n",
              "    <tr style=\"text-align: right;\">\n",
              "      <th></th>\n",
              "      <th>지표연도</th>\n",
              "      <th>\\t시도코드</th>\n",
              "      <th>\\t시도명</th>\n",
              "      <th>\\t구분</th>\n",
              "      <th>\\t성별</th>\n",
              "      <th>\\t연령대</th>\n",
              "      <th>\\t보험료구분</th>\n",
              "      <th>\\t이벤트건수</th>\n",
              "      <th>\\t대상자건수</th>\n",
              "      <th>\\t지표비율</th>\n",
              "      <th>\\t표준화율</th>\n",
              "    </tr>\n",
              "  </thead>\n",
              "  <tbody>\n",
              "    <tr>\n",
              "      <th>0</th>\n",
              "      <td>2017</td>\n",
              "      <td>11</td>\n",
              "      <td>서울특별시</td>\n",
              "      <td>권내</td>\n",
              "      <td>전체</td>\n",
              "      <td>전체</td>\n",
              "      <td>전체</td>\n",
              "      <td>11955</td>\n",
              "      <td>14296</td>\n",
              "      <td>84.0</td>\n",
              "      <td>84.0</td>\n",
              "    </tr>\n",
              "    <tr>\n",
              "      <th>1</th>\n",
              "      <td>2019</td>\n",
              "      <td>11</td>\n",
              "      <td>서울특별시</td>\n",
              "      <td>권외</td>\n",
              "      <td>전체</td>\n",
              "      <td>전체</td>\n",
              "      <td>전체</td>\n",
              "      <td>2599</td>\n",
              "      <td>2263</td>\n",
              "      <td>115.0</td>\n",
              "      <td>115.0</td>\n",
              "    </tr>\n",
              "    <tr>\n",
              "      <th>2</th>\n",
              "      <td>2019</td>\n",
              "      <td>11</td>\n",
              "      <td>서울특별시</td>\n",
              "      <td>권내</td>\n",
              "      <td>전체</td>\n",
              "      <td>전체</td>\n",
              "      <td>전체</td>\n",
              "      <td>3792</td>\n",
              "      <td>4358</td>\n",
              "      <td>87.0</td>\n",
              "      <td>87.0</td>\n",
              "    </tr>\n",
              "    <tr>\n",
              "      <th>3</th>\n",
              "      <td>2019</td>\n",
              "      <td>11</td>\n",
              "      <td>서울특별시</td>\n",
              "      <td>전체</td>\n",
              "      <td>전체</td>\n",
              "      <td>전체</td>\n",
              "      <td>전체</td>\n",
              "      <td>6391</td>\n",
              "      <td>6410</td>\n",
              "      <td>100.0</td>\n",
              "      <td>100.0</td>\n",
              "    </tr>\n",
              "    <tr>\n",
              "      <th>4</th>\n",
              "      <td>2018</td>\n",
              "      <td>11</td>\n",
              "      <td>서울특별시</td>\n",
              "      <td>권외</td>\n",
              "      <td>전체</td>\n",
              "      <td>전체</td>\n",
              "      <td>전체</td>\n",
              "      <td>7053</td>\n",
              "      <td>6337</td>\n",
              "      <td>111.0</td>\n",
              "      <td>111.0</td>\n",
              "    </tr>\n",
              "  </tbody>\n",
              "</table>\n",
              "</div>"
            ],
            "text/plain": [
              "   지표연도  \\t시도코드  \\t시도명 \\t구분 \\t성별  ... \\t보험료구분 \\t이벤트건수  \\t대상자건수  \\t지표비율  \\t표준화율\n",
              "0  2017      11  서울특별시   권내   전체  ...      전체   11955    14296    84.0    84.0\n",
              "1  2019      11  서울특별시   권외   전체  ...      전체    2599     2263   115.0   115.0\n",
              "2  2019      11  서울특별시   권내   전체  ...      전체    3792     4358    87.0    87.0\n",
              "3  2019      11  서울특별시   전체   전체  ...      전체    6391     6410   100.0   100.0\n",
              "4  2018      11  서울특별시   권외   전체  ...      전체    7053     6337   111.0   111.0\n",
              "\n",
              "[5 rows x 11 columns]"
            ]
          },
          "metadata": {},
          "execution_count": 51
        }
      ]
    },
    {
      "cell_type": "code",
      "metadata": {
        "colab": {
          "base_uri": "https://localhost:8080/",
          "height": 205
        },
        "id": "BTxNqMKryfJ3",
        "outputId": "c5cdd15c-b5a4-4604-d422-9a505c045f1b"
      },
      "source": [
        "df1 = df1[df1.지표연도 == 2019]\n",
        "df1.head()"
      ],
      "execution_count": null,
      "outputs": [
        {
          "output_type": "execute_result",
          "data": {
            "text/html": [
              "<div>\n",
              "<style scoped>\n",
              "    .dataframe tbody tr th:only-of-type {\n",
              "        vertical-align: middle;\n",
              "    }\n",
              "\n",
              "    .dataframe tbody tr th {\n",
              "        vertical-align: top;\n",
              "    }\n",
              "\n",
              "    .dataframe thead th {\n",
              "        text-align: right;\n",
              "    }\n",
              "</style>\n",
              "<table border=\"1\" class=\"dataframe\">\n",
              "  <thead>\n",
              "    <tr style=\"text-align: right;\">\n",
              "      <th></th>\n",
              "      <th>지표연도</th>\n",
              "      <th>\\t시도코드</th>\n",
              "      <th>\\t시도명</th>\n",
              "      <th>\\t구분</th>\n",
              "      <th>\\t성별</th>\n",
              "      <th>\\t연령대</th>\n",
              "      <th>\\t보험료구분</th>\n",
              "      <th>\\t이벤트건수</th>\n",
              "      <th>\\t대상자건수</th>\n",
              "      <th>\\t지표비율</th>\n",
              "      <th>\\t표준화율</th>\n",
              "    </tr>\n",
              "  </thead>\n",
              "  <tbody>\n",
              "    <tr>\n",
              "      <th>1</th>\n",
              "      <td>2019</td>\n",
              "      <td>11</td>\n",
              "      <td>서울특별시</td>\n",
              "      <td>권외</td>\n",
              "      <td>전체</td>\n",
              "      <td>전체</td>\n",
              "      <td>전체</td>\n",
              "      <td>2599</td>\n",
              "      <td>2263</td>\n",
              "      <td>115.0</td>\n",
              "      <td>115.0</td>\n",
              "    </tr>\n",
              "    <tr>\n",
              "      <th>2</th>\n",
              "      <td>2019</td>\n",
              "      <td>11</td>\n",
              "      <td>서울특별시</td>\n",
              "      <td>권내</td>\n",
              "      <td>전체</td>\n",
              "      <td>전체</td>\n",
              "      <td>전체</td>\n",
              "      <td>3792</td>\n",
              "      <td>4358</td>\n",
              "      <td>87.0</td>\n",
              "      <td>87.0</td>\n",
              "    </tr>\n",
              "    <tr>\n",
              "      <th>3</th>\n",
              "      <td>2019</td>\n",
              "      <td>11</td>\n",
              "      <td>서울특별시</td>\n",
              "      <td>전체</td>\n",
              "      <td>전체</td>\n",
              "      <td>전체</td>\n",
              "      <td>전체</td>\n",
              "      <td>6391</td>\n",
              "      <td>6410</td>\n",
              "      <td>100.0</td>\n",
              "      <td>100.0</td>\n",
              "    </tr>\n",
              "    <tr>\n",
              "      <th>36</th>\n",
              "      <td>2019</td>\n",
              "      <td>21</td>\n",
              "      <td>부산광역시</td>\n",
              "      <td>전체</td>\n",
              "      <td>전체</td>\n",
              "      <td>전체</td>\n",
              "      <td>전체</td>\n",
              "      <td>2418</td>\n",
              "      <td>2913</td>\n",
              "      <td>83.0</td>\n",
              "      <td>83.0</td>\n",
              "    </tr>\n",
              "    <tr>\n",
              "      <th>37</th>\n",
              "      <td>2019</td>\n",
              "      <td>21</td>\n",
              "      <td>부산광역시</td>\n",
              "      <td>권내</td>\n",
              "      <td>전체</td>\n",
              "      <td>전체</td>\n",
              "      <td>전체</td>\n",
              "      <td>1215</td>\n",
              "      <td>1663</td>\n",
              "      <td>73.0</td>\n",
              "      <td>73.0</td>\n",
              "    </tr>\n",
              "  </tbody>\n",
              "</table>\n",
              "</div>"
            ],
            "text/plain": [
              "    지표연도  \\t시도코드  \\t시도명 \\t구분 \\t성별  ... \\t보험료구분 \\t이벤트건수  \\t대상자건수  \\t지표비율  \\t표준화율\n",
              "1   2019      11  서울특별시   권외   전체  ...      전체    2599     2263   115.0   115.0\n",
              "2   2019      11  서울특별시   권내   전체  ...      전체    3792     4358    87.0    87.0\n",
              "3   2019      11  서울특별시   전체   전체  ...      전체    6391     6410   100.0   100.0\n",
              "36  2019      21  부산광역시   전체   전체  ...      전체    2418     2913    83.0    83.0\n",
              "37  2019      21  부산광역시   권내   전체  ...      전체    1215     1663    73.0    73.0\n",
              "\n",
              "[5 rows x 11 columns]"
            ]
          },
          "metadata": {},
          "execution_count": 52
        }
      ]
    },
    {
      "cell_type": "code",
      "metadata": {
        "colab": {
          "base_uri": "https://localhost:8080/",
          "height": 143
        },
        "id": "NDgg-eg-I13x",
        "outputId": "c9bcbffb-b9b3-44eb-b330-3ae6ddfcd1aa"
      },
      "source": [
        "df1.rename(columns={'\\t구분':'구분'},inplace=True)\n",
        "df1.head(3)"
      ],
      "execution_count": null,
      "outputs": [
        {
          "output_type": "execute_result",
          "data": {
            "text/html": [
              "<div>\n",
              "<style scoped>\n",
              "    .dataframe tbody tr th:only-of-type {\n",
              "        vertical-align: middle;\n",
              "    }\n",
              "\n",
              "    .dataframe tbody tr th {\n",
              "        vertical-align: top;\n",
              "    }\n",
              "\n",
              "    .dataframe thead th {\n",
              "        text-align: right;\n",
              "    }\n",
              "</style>\n",
              "<table border=\"1\" class=\"dataframe\">\n",
              "  <thead>\n",
              "    <tr style=\"text-align: right;\">\n",
              "      <th></th>\n",
              "      <th>지표연도</th>\n",
              "      <th>\\t시도코드</th>\n",
              "      <th>\\t시도명</th>\n",
              "      <th>구분</th>\n",
              "      <th>\\t성별</th>\n",
              "      <th>\\t연령대</th>\n",
              "      <th>\\t보험료구분</th>\n",
              "      <th>\\t이벤트건수</th>\n",
              "      <th>\\t대상자건수</th>\n",
              "      <th>\\t지표비율</th>\n",
              "      <th>\\t표준화율</th>\n",
              "    </tr>\n",
              "  </thead>\n",
              "  <tbody>\n",
              "    <tr>\n",
              "      <th>1</th>\n",
              "      <td>2019</td>\n",
              "      <td>11</td>\n",
              "      <td>서울특별시</td>\n",
              "      <td>권외</td>\n",
              "      <td>전체</td>\n",
              "      <td>전체</td>\n",
              "      <td>전체</td>\n",
              "      <td>2599</td>\n",
              "      <td>2263</td>\n",
              "      <td>115.0</td>\n",
              "      <td>115.0</td>\n",
              "    </tr>\n",
              "    <tr>\n",
              "      <th>2</th>\n",
              "      <td>2019</td>\n",
              "      <td>11</td>\n",
              "      <td>서울특별시</td>\n",
              "      <td>권내</td>\n",
              "      <td>전체</td>\n",
              "      <td>전체</td>\n",
              "      <td>전체</td>\n",
              "      <td>3792</td>\n",
              "      <td>4358</td>\n",
              "      <td>87.0</td>\n",
              "      <td>87.0</td>\n",
              "    </tr>\n",
              "    <tr>\n",
              "      <th>3</th>\n",
              "      <td>2019</td>\n",
              "      <td>11</td>\n",
              "      <td>서울특별시</td>\n",
              "      <td>전체</td>\n",
              "      <td>전체</td>\n",
              "      <td>전체</td>\n",
              "      <td>전체</td>\n",
              "      <td>6391</td>\n",
              "      <td>6410</td>\n",
              "      <td>100.0</td>\n",
              "      <td>100.0</td>\n",
              "    </tr>\n",
              "  </tbody>\n",
              "</table>\n",
              "</div>"
            ],
            "text/plain": [
              "   지표연도  \\t시도코드  \\t시도명  구분 \\t성별 \\t연령대 \\t보험료구분  \\t이벤트건수  \\t대상자건수  \\t지표비율  \\t표준화율\n",
              "1  2019      11  서울특별시  권외   전체    전체      전체     2599     2263   115.0   115.0\n",
              "2  2019      11  서울특별시  권내   전체    전체      전체     3792     4358    87.0    87.0\n",
              "3  2019      11  서울특별시  전체   전체    전체      전체     6391     6410   100.0   100.0"
            ]
          },
          "metadata": {},
          "execution_count": 53
        }
      ]
    },
    {
      "cell_type": "code",
      "metadata": {
        "id": "MDyjTFeVJQ7t"
      },
      "source": [
        "df1.rename(columns={'\\t시도코드':'시도코드'},inplace=True)\n",
        "df1.rename(columns={'\\t시도명':'시도명'},inplace=True)\n",
        "df1.rename(columns={'\\t대상자건수':'대상자건수'},inplace=True)\n",
        "df1.rename(columns={'\\t지표비율':'지표비율'},inplace=True)"
      ],
      "execution_count": null,
      "outputs": []
    },
    {
      "cell_type": "code",
      "metadata": {
        "colab": {
          "base_uri": "https://localhost:8080/",
          "height": 205
        },
        "id": "0-j33QWUIAQw",
        "outputId": "f81411b0-0d78-4009-dc4a-79e14764c0e6"
      },
      "source": [
        "df1 = df1[df1.구분 == '전체']\n",
        "df1.head()"
      ],
      "execution_count": null,
      "outputs": [
        {
          "output_type": "execute_result",
          "data": {
            "text/html": [
              "<div>\n",
              "<style scoped>\n",
              "    .dataframe tbody tr th:only-of-type {\n",
              "        vertical-align: middle;\n",
              "    }\n",
              "\n",
              "    .dataframe tbody tr th {\n",
              "        vertical-align: top;\n",
              "    }\n",
              "\n",
              "    .dataframe thead th {\n",
              "        text-align: right;\n",
              "    }\n",
              "</style>\n",
              "<table border=\"1\" class=\"dataframe\">\n",
              "  <thead>\n",
              "    <tr style=\"text-align: right;\">\n",
              "      <th></th>\n",
              "      <th>지표연도</th>\n",
              "      <th>시도코드</th>\n",
              "      <th>시도명</th>\n",
              "      <th>구분</th>\n",
              "      <th>\\t성별</th>\n",
              "      <th>\\t연령대</th>\n",
              "      <th>\\t보험료구분</th>\n",
              "      <th>\\t이벤트건수</th>\n",
              "      <th>대상자건수</th>\n",
              "      <th>지표비율</th>\n",
              "      <th>\\t표준화율</th>\n",
              "    </tr>\n",
              "  </thead>\n",
              "  <tbody>\n",
              "    <tr>\n",
              "      <th>3</th>\n",
              "      <td>2019</td>\n",
              "      <td>11</td>\n",
              "      <td>서울특별시</td>\n",
              "      <td>전체</td>\n",
              "      <td>전체</td>\n",
              "      <td>전체</td>\n",
              "      <td>전체</td>\n",
              "      <td>6391</td>\n",
              "      <td>6410</td>\n",
              "      <td>100.0</td>\n",
              "      <td>100.0</td>\n",
              "    </tr>\n",
              "    <tr>\n",
              "      <th>36</th>\n",
              "      <td>2019</td>\n",
              "      <td>21</td>\n",
              "      <td>부산광역시</td>\n",
              "      <td>전체</td>\n",
              "      <td>전체</td>\n",
              "      <td>전체</td>\n",
              "      <td>전체</td>\n",
              "      <td>2418</td>\n",
              "      <td>2913</td>\n",
              "      <td>83.0</td>\n",
              "      <td>83.0</td>\n",
              "    </tr>\n",
              "    <tr>\n",
              "      <th>63</th>\n",
              "      <td>2019</td>\n",
              "      <td>22</td>\n",
              "      <td>대구광역시</td>\n",
              "      <td>전체</td>\n",
              "      <td>전체</td>\n",
              "      <td>전체</td>\n",
              "      <td>전체</td>\n",
              "      <td>1650</td>\n",
              "      <td>1491</td>\n",
              "      <td>111.0</td>\n",
              "      <td>111.0</td>\n",
              "    </tr>\n",
              "    <tr>\n",
              "      <th>84</th>\n",
              "      <td>2019</td>\n",
              "      <td>23</td>\n",
              "      <td>인천광역시</td>\n",
              "      <td>전체</td>\n",
              "      <td>전체</td>\n",
              "      <td>전체</td>\n",
              "      <td>전체</td>\n",
              "      <td>1885</td>\n",
              "      <td>1938</td>\n",
              "      <td>97.0</td>\n",
              "      <td>97.0</td>\n",
              "    </tr>\n",
              "    <tr>\n",
              "      <th>117</th>\n",
              "      <td>2019</td>\n",
              "      <td>24</td>\n",
              "      <td>광주광역시</td>\n",
              "      <td>전체</td>\n",
              "      <td>전체</td>\n",
              "      <td>전체</td>\n",
              "      <td>전체</td>\n",
              "      <td>814</td>\n",
              "      <td>904</td>\n",
              "      <td>90.0</td>\n",
              "      <td>90.0</td>\n",
              "    </tr>\n",
              "  </tbody>\n",
              "</table>\n",
              "</div>"
            ],
            "text/plain": [
              "     지표연도  시도코드    시도명  구분 \\t성별 \\t연령대 \\t보험료구분  \\t이벤트건수  대상자건수   지표비율  \\t표준화율\n",
              "3    2019    11  서울특별시  전체   전체    전체      전체     6391   6410  100.0   100.0\n",
              "36   2019    21  부산광역시  전체   전체    전체      전체     2418   2913   83.0    83.0\n",
              "63   2019    22  대구광역시  전체   전체    전체      전체     1650   1491  111.0   111.0\n",
              "84   2019    23  인천광역시  전체   전체    전체      전체     1885   1938   97.0    97.0\n",
              "117  2019    24  광주광역시  전체   전체    전체      전체      814    904   90.0    90.0"
            ]
          },
          "metadata": {},
          "execution_count": 61
        }
      ]
    },
    {
      "cell_type": "code",
      "metadata": {
        "id": "l6c1vSoc3GGR",
        "colab": {
          "base_uri": "https://localhost:8080/",
          "height": 205
        },
        "outputId": "a24774ab-139d-4229-f70d-1fd22eb32a18"
      },
      "source": [
        "df1 = df1[['시도코드', '시도명', '대상자건수', '지표비율']]\n",
        "df1.head()"
      ],
      "execution_count": null,
      "outputs": [
        {
          "output_type": "execute_result",
          "data": {
            "text/html": [
              "<div>\n",
              "<style scoped>\n",
              "    .dataframe tbody tr th:only-of-type {\n",
              "        vertical-align: middle;\n",
              "    }\n",
              "\n",
              "    .dataframe tbody tr th {\n",
              "        vertical-align: top;\n",
              "    }\n",
              "\n",
              "    .dataframe thead th {\n",
              "        text-align: right;\n",
              "    }\n",
              "</style>\n",
              "<table border=\"1\" class=\"dataframe\">\n",
              "  <thead>\n",
              "    <tr style=\"text-align: right;\">\n",
              "      <th></th>\n",
              "      <th>시도코드</th>\n",
              "      <th>시도명</th>\n",
              "      <th>대상자건수</th>\n",
              "      <th>지표비율</th>\n",
              "    </tr>\n",
              "  </thead>\n",
              "  <tbody>\n",
              "    <tr>\n",
              "      <th>0</th>\n",
              "      <td>11</td>\n",
              "      <td>서울특별시</td>\n",
              "      <td>6410</td>\n",
              "      <td>100.0</td>\n",
              "    </tr>\n",
              "    <tr>\n",
              "      <th>1</th>\n",
              "      <td>21</td>\n",
              "      <td>부산광역시</td>\n",
              "      <td>2913</td>\n",
              "      <td>83.0</td>\n",
              "    </tr>\n",
              "    <tr>\n",
              "      <th>2</th>\n",
              "      <td>22</td>\n",
              "      <td>대구광역시</td>\n",
              "      <td>1491</td>\n",
              "      <td>111.0</td>\n",
              "    </tr>\n",
              "    <tr>\n",
              "      <th>3</th>\n",
              "      <td>23</td>\n",
              "      <td>인천광역시</td>\n",
              "      <td>1938</td>\n",
              "      <td>97.0</td>\n",
              "    </tr>\n",
              "    <tr>\n",
              "      <th>4</th>\n",
              "      <td>24</td>\n",
              "      <td>광주광역시</td>\n",
              "      <td>904</td>\n",
              "      <td>90.0</td>\n",
              "    </tr>\n",
              "  </tbody>\n",
              "</table>\n",
              "</div>"
            ],
            "text/plain": [
              "   시도코드    시도명  대상자건수   지표비율\n",
              "0    11  서울특별시   6410  100.0\n",
              "1    21  부산광역시   2913   83.0\n",
              "2    22  대구광역시   1491  111.0\n",
              "3    23  인천광역시   1938   97.0\n",
              "4    24  광주광역시    904   90.0"
            ]
          },
          "metadata": {},
          "execution_count": 66
        }
      ]
    },
    {
      "cell_type": "code",
      "metadata": {
        "id": "QRMJ5_iUJluD"
      },
      "source": [
        "df1.to_csv('회피가능사망율.csv')"
      ],
      "execution_count": null,
      "outputs": []
    },
    {
      "cell_type": "code",
      "metadata": {
        "id": "5sxk-8d0KVn_"
      },
      "source": [
        ""
      ],
      "execution_count": null,
      "outputs": []
    },
    {
      "cell_type": "markdown",
      "metadata": {
        "id": "R-bYQlwGSu1q"
      },
      "source": [
        "- KOSIS 데이터"
      ]
    },
    {
      "cell_type": "code",
      "metadata": {
        "colab": {
          "base_uri": "https://localhost:8080/",
          "height": 143
        },
        "id": "XeMvYOPGSrRo",
        "outputId": "fd4d7b24-119f-4275-87b7-e2554755742d"
      },
      "source": [
        "df2 = '/content/drive/MyDrive/4조_헬스케어/자료파일/raw_data/의료기관_소재지별_치료가능_사망률_2015.csv'\n",
        "df2 = pd.read_csv(df2, header=2, encoding=\"euc-kr\")\n",
        "df2.head(3)"
      ],
      "execution_count": null,
      "outputs": [
        {
          "output_type": "execute_result",
          "data": {
            "text/html": [
              "<div>\n",
              "<style scoped>\n",
              "    .dataframe tbody tr th:only-of-type {\n",
              "        vertical-align: middle;\n",
              "    }\n",
              "\n",
              "    .dataframe tbody tr th {\n",
              "        vertical-align: top;\n",
              "    }\n",
              "\n",
              "    .dataframe thead th {\n",
              "        text-align: right;\n",
              "    }\n",
              "</style>\n",
              "<table border=\"1\" class=\"dataframe\">\n",
              "  <thead>\n",
              "    <tr style=\"text-align: right;\">\n",
              "      <th></th>\n",
              "      <th>전국</th>\n",
              "      <th>69.3</th>\n",
              "      <th>50.4</th>\n",
              "    </tr>\n",
              "  </thead>\n",
              "  <tbody>\n",
              "    <tr>\n",
              "      <th>0</th>\n",
              "      <td>서울</td>\n",
              "      <td>59.1</td>\n",
              "      <td>44.6</td>\n",
              "    </tr>\n",
              "    <tr>\n",
              "      <th>1</th>\n",
              "      <td>부산</td>\n",
              "      <td>75.2</td>\n",
              "      <td>55.3</td>\n",
              "    </tr>\n",
              "    <tr>\n",
              "      <th>2</th>\n",
              "      <td>대구</td>\n",
              "      <td>76.2</td>\n",
              "      <td>54.2</td>\n",
              "    </tr>\n",
              "  </tbody>\n",
              "</table>\n",
              "</div>"
            ],
            "text/plain": [
              "   전국  69.3  50.4\n",
              "0  서울  59.1  44.6\n",
              "1  부산  75.2  55.3\n",
              "2  대구  76.2  54.2"
            ]
          },
          "metadata": {},
          "execution_count": 94
        }
      ]
    },
    {
      "cell_type": "code",
      "metadata": {
        "colab": {
          "base_uri": "https://localhost:8080/",
          "height": 143
        },
        "id": "bp2YnhF5SuHK",
        "outputId": "23b20459-8a1e-4347-84b7-246bba4ca7d9"
      },
      "source": [
        "df2 = df2[['전국', '50.4']]\n",
        "# index reset \n",
        "df2 = df2.reset_index(drop=True)\n",
        "df2.head(3)"
      ],
      "execution_count": null,
      "outputs": [
        {
          "output_type": "execute_result",
          "data": {
            "text/html": [
              "<div>\n",
              "<style scoped>\n",
              "    .dataframe tbody tr th:only-of-type {\n",
              "        vertical-align: middle;\n",
              "    }\n",
              "\n",
              "    .dataframe tbody tr th {\n",
              "        vertical-align: top;\n",
              "    }\n",
              "\n",
              "    .dataframe thead th {\n",
              "        text-align: right;\n",
              "    }\n",
              "</style>\n",
              "<table border=\"1\" class=\"dataframe\">\n",
              "  <thead>\n",
              "    <tr style=\"text-align: right;\">\n",
              "      <th></th>\n",
              "      <th>전국</th>\n",
              "      <th>50.4</th>\n",
              "    </tr>\n",
              "  </thead>\n",
              "  <tbody>\n",
              "    <tr>\n",
              "      <th>0</th>\n",
              "      <td>서울</td>\n",
              "      <td>44.6</td>\n",
              "    </tr>\n",
              "    <tr>\n",
              "      <th>1</th>\n",
              "      <td>부산</td>\n",
              "      <td>55.3</td>\n",
              "    </tr>\n",
              "    <tr>\n",
              "      <th>2</th>\n",
              "      <td>대구</td>\n",
              "      <td>54.2</td>\n",
              "    </tr>\n",
              "  </tbody>\n",
              "</table>\n",
              "</div>"
            ],
            "text/plain": [
              "   전국  50.4\n",
              "0  서울  44.6\n",
              "1  부산  55.3\n",
              "2  대구  54.2"
            ]
          },
          "metadata": {},
          "execution_count": 89
        }
      ]
    },
    {
      "cell_type": "code",
      "metadata": {
        "colab": {
          "base_uri": "https://localhost:8080/",
          "height": 143
        },
        "id": "MzaNuMS1SrPN",
        "outputId": "aeede9bf-c273-4f41-cb35-712dd3c42d3c"
      },
      "source": [
        "df2.rename(columns={'전국':'시도명'},inplace=True)\n",
        "df2.rename(columns={'50.4':'사망률'},inplace=True)\n",
        "df2.head(3)"
      ],
      "execution_count": null,
      "outputs": [
        {
          "output_type": "execute_result",
          "data": {
            "text/html": [
              "<div>\n",
              "<style scoped>\n",
              "    .dataframe tbody tr th:only-of-type {\n",
              "        vertical-align: middle;\n",
              "    }\n",
              "\n",
              "    .dataframe tbody tr th {\n",
              "        vertical-align: top;\n",
              "    }\n",
              "\n",
              "    .dataframe thead th {\n",
              "        text-align: right;\n",
              "    }\n",
              "</style>\n",
              "<table border=\"1\" class=\"dataframe\">\n",
              "  <thead>\n",
              "    <tr style=\"text-align: right;\">\n",
              "      <th></th>\n",
              "      <th>시도명</th>\n",
              "      <th>사망률</th>\n",
              "    </tr>\n",
              "  </thead>\n",
              "  <tbody>\n",
              "    <tr>\n",
              "      <th>0</th>\n",
              "      <td>서울</td>\n",
              "      <td>44.6</td>\n",
              "    </tr>\n",
              "    <tr>\n",
              "      <th>1</th>\n",
              "      <td>부산</td>\n",
              "      <td>55.3</td>\n",
              "    </tr>\n",
              "    <tr>\n",
              "      <th>2</th>\n",
              "      <td>대구</td>\n",
              "      <td>54.2</td>\n",
              "    </tr>\n",
              "  </tbody>\n",
              "</table>\n",
              "</div>"
            ],
            "text/plain": [
              "  시도명   사망률\n",
              "0  서울  44.6\n",
              "1  부산  55.3\n",
              "2  대구  54.2"
            ]
          },
          "metadata": {},
          "execution_count": 90
        }
      ]
    },
    {
      "cell_type": "code",
      "metadata": {
        "id": "bcRfJVajVPQK"
      },
      "source": [
        "df2.replace(['서울', '부산', '인천', '대구', '광주', '대전', '울산', '경기', '강원', '충북', '충남',\n",
        "       '전북', '전남', '경북', '경남', '제주', '세종'],\n",
        "       ['11', '21', '23', '22', '24', '25', '26', '31', '32',\n",
        "       '33', '34', '35', '36', '37', '38', '39', '29'],inplace=True)"
      ],
      "execution_count": null,
      "outputs": []
    },
    {
      "cell_type": "code",
      "metadata": {
        "colab": {
          "base_uri": "https://localhost:8080/",
          "height": 143
        },
        "id": "S6rAPiQqWoO_",
        "outputId": "da0ecae1-22dc-4369-cefb-6caf72af675f"
      },
      "source": [
        "df2.head(3)"
      ],
      "execution_count": null,
      "outputs": [
        {
          "output_type": "execute_result",
          "data": {
            "text/html": [
              "<div>\n",
              "<style scoped>\n",
              "    .dataframe tbody tr th:only-of-type {\n",
              "        vertical-align: middle;\n",
              "    }\n",
              "\n",
              "    .dataframe tbody tr th {\n",
              "        vertical-align: top;\n",
              "    }\n",
              "\n",
              "    .dataframe thead th {\n",
              "        text-align: right;\n",
              "    }\n",
              "</style>\n",
              "<table border=\"1\" class=\"dataframe\">\n",
              "  <thead>\n",
              "    <tr style=\"text-align: right;\">\n",
              "      <th></th>\n",
              "      <th>시도명</th>\n",
              "      <th>사망률</th>\n",
              "    </tr>\n",
              "  </thead>\n",
              "  <tbody>\n",
              "    <tr>\n",
              "      <th>0</th>\n",
              "      <td>11</td>\n",
              "      <td>44.6</td>\n",
              "    </tr>\n",
              "    <tr>\n",
              "      <th>1</th>\n",
              "      <td>21</td>\n",
              "      <td>55.3</td>\n",
              "    </tr>\n",
              "    <tr>\n",
              "      <th>2</th>\n",
              "      <td>22</td>\n",
              "      <td>54.2</td>\n",
              "    </tr>\n",
              "  </tbody>\n",
              "</table>\n",
              "</div>"
            ],
            "text/plain": [
              "  시도명   사망률\n",
              "0  11  44.6\n",
              "1  21  55.3\n",
              "2  22  54.2"
            ]
          },
          "metadata": {},
          "execution_count": 92
        }
      ]
    },
    {
      "cell_type": "code",
      "metadata": {
        "id": "dMpbaL4RSrM-"
      },
      "source": [
        "df2.to_csv('회피가능사망율(KOSIS).csv')"
      ],
      "execution_count": null,
      "outputs": []
    },
    {
      "cell_type": "code",
      "metadata": {
        "id": "PwvIctMESrKU"
      },
      "source": [
        ""
      ],
      "execution_count": null,
      "outputs": []
    },
    {
      "cell_type": "code",
      "metadata": {
        "id": "RhOJoiiBSrFm"
      },
      "source": [
        ""
      ],
      "execution_count": null,
      "outputs": []
    },
    {
      "cell_type": "markdown",
      "metadata": {
        "id": "vp7iepMGxFOa"
      },
      "source": [
        "- 총인구 데이터 합성"
      ]
    },
    {
      "cell_type": "code",
      "metadata": {
        "colab": {
          "base_uri": "https://localhost:8080/",
          "height": 143
        },
        "id": "RivLcbdLxHku",
        "outputId": "34cc5146-eb37-464a-9749-9f7af3222c67"
      },
      "source": [
        "df = '/content/drive/MyDrive/4조_헬스케어/자료파일/1차전처리/회피가능사망율(의료지도).csv'\n",
        "df = pd.read_csv(df)\n",
        "df.head(3)"
      ],
      "execution_count": null,
      "outputs": [
        {
          "output_type": "execute_result",
          "data": {
            "text/html": [
              "<div>\n",
              "<style scoped>\n",
              "    .dataframe tbody tr th:only-of-type {\n",
              "        vertical-align: middle;\n",
              "    }\n",
              "\n",
              "    .dataframe tbody tr th {\n",
              "        vertical-align: top;\n",
              "    }\n",
              "\n",
              "    .dataframe thead th {\n",
              "        text-align: right;\n",
              "    }\n",
              "</style>\n",
              "<table border=\"1\" class=\"dataframe\">\n",
              "  <thead>\n",
              "    <tr style=\"text-align: right;\">\n",
              "      <th></th>\n",
              "      <th>Unnamed: 0</th>\n",
              "      <th>시도코드</th>\n",
              "      <th>시도명</th>\n",
              "      <th>대상자건수</th>\n",
              "      <th>지표비율</th>\n",
              "    </tr>\n",
              "  </thead>\n",
              "  <tbody>\n",
              "    <tr>\n",
              "      <th>0</th>\n",
              "      <td>3</td>\n",
              "      <td>11</td>\n",
              "      <td>서울특별시</td>\n",
              "      <td>6410</td>\n",
              "      <td>100.0</td>\n",
              "    </tr>\n",
              "    <tr>\n",
              "      <th>1</th>\n",
              "      <td>36</td>\n",
              "      <td>21</td>\n",
              "      <td>부산광역시</td>\n",
              "      <td>2913</td>\n",
              "      <td>83.0</td>\n",
              "    </tr>\n",
              "    <tr>\n",
              "      <th>2</th>\n",
              "      <td>63</td>\n",
              "      <td>22</td>\n",
              "      <td>대구광역시</td>\n",
              "      <td>1491</td>\n",
              "      <td>111.0</td>\n",
              "    </tr>\n",
              "  </tbody>\n",
              "</table>\n",
              "</div>"
            ],
            "text/plain": [
              "   Unnamed: 0  시도코드    시도명  대상자건수   지표비율\n",
              "0           3    11  서울특별시   6410  100.0\n",
              "1          36    21  부산광역시   2913   83.0\n",
              "2          63    22  대구광역시   1491  111.0"
            ]
          },
          "metadata": {},
          "execution_count": 95
        }
      ]
    },
    {
      "cell_type": "code",
      "metadata": {
        "id": "gbQevazYxJZn"
      },
      "source": [
        "df = df.drop('Unnamed: 0', axis=1)"
      ],
      "execution_count": null,
      "outputs": []
    },
    {
      "cell_type": "code",
      "metadata": {
        "colab": {
          "base_uri": "https://localhost:8080/",
          "height": 143
        },
        "id": "aBUP0pM5xKvR",
        "outputId": "1416af4a-fa5c-4061-a78e-7ab2d87f22e9"
      },
      "source": [
        "pop = '/content/drive/MyDrive/4조_헬스케어/자료파일/1차전처리/2019총인구.csv'\n",
        "pop = pd.read_csv(pop)\n",
        "pop.head(3)"
      ],
      "execution_count": null,
      "outputs": [
        {
          "output_type": "execute_result",
          "data": {
            "text/html": [
              "<div>\n",
              "<style scoped>\n",
              "    .dataframe tbody tr th:only-of-type {\n",
              "        vertical-align: middle;\n",
              "    }\n",
              "\n",
              "    .dataframe tbody tr th {\n",
              "        vertical-align: top;\n",
              "    }\n",
              "\n",
              "    .dataframe thead th {\n",
              "        text-align: right;\n",
              "    }\n",
              "</style>\n",
              "<table border=\"1\" class=\"dataframe\">\n",
              "  <thead>\n",
              "    <tr style=\"text-align: right;\">\n",
              "      <th></th>\n",
              "      <th>Unnamed: 0</th>\n",
              "      <th>시도코드</th>\n",
              "      <th>총 인구수(명)</th>\n",
              "      <th>총인구_남자(명)</th>\n",
              "      <th>총인구_여자(명)</th>\n",
              "      <th>총인구_성비(명)</th>\n",
              "    </tr>\n",
              "  </thead>\n",
              "  <tbody>\n",
              "    <tr>\n",
              "      <th>0</th>\n",
              "      <td>1</td>\n",
              "      <td>11</td>\n",
              "      <td>9639541</td>\n",
              "      <td>4690440</td>\n",
              "      <td>4949101</td>\n",
              "      <td>94.8</td>\n",
              "    </tr>\n",
              "    <tr>\n",
              "      <th>1</th>\n",
              "      <td>29</td>\n",
              "      <td>21</td>\n",
              "      <td>3372692</td>\n",
              "      <td>1655566</td>\n",
              "      <td>1717126</td>\n",
              "      <td>96.4</td>\n",
              "    </tr>\n",
              "    <tr>\n",
              "      <th>2</th>\n",
              "      <td>57</td>\n",
              "      <td>22</td>\n",
              "      <td>2429940</td>\n",
              "      <td>1203754</td>\n",
              "      <td>1226186</td>\n",
              "      <td>98.2</td>\n",
              "    </tr>\n",
              "  </tbody>\n",
              "</table>\n",
              "</div>"
            ],
            "text/plain": [
              "   Unnamed: 0  시도코드  총 인구수(명)  총인구_남자(명)  총인구_여자(명)  총인구_성비(명)\n",
              "0           1    11   9639541    4690440    4949101       94.8\n",
              "1          29    21   3372692    1655566    1717126       96.4\n",
              "2          57    22   2429940    1203754    1226186       98.2"
            ]
          },
          "metadata": {},
          "execution_count": 97
        }
      ]
    },
    {
      "cell_type": "code",
      "metadata": {
        "id": "37T4Pr5wxMCh"
      },
      "source": [
        "pop = pop.drop('Unnamed: 0', axis=1)"
      ],
      "execution_count": null,
      "outputs": []
    },
    {
      "cell_type": "code",
      "metadata": {
        "colab": {
          "base_uri": "https://localhost:8080/",
          "height": 581
        },
        "id": "-XTBehN5xNO9",
        "outputId": "84b7144a-1adc-4168-9098-f638f2dc9125"
      },
      "source": [
        "df2 = pd.merge(df, pop)\n",
        "df"
      ],
      "execution_count": null,
      "outputs": [
        {
          "output_type": "execute_result",
          "data": {
            "text/html": [
              "<div>\n",
              "<style scoped>\n",
              "    .dataframe tbody tr th:only-of-type {\n",
              "        vertical-align: middle;\n",
              "    }\n",
              "\n",
              "    .dataframe tbody tr th {\n",
              "        vertical-align: top;\n",
              "    }\n",
              "\n",
              "    .dataframe thead th {\n",
              "        text-align: right;\n",
              "    }\n",
              "</style>\n",
              "<table border=\"1\" class=\"dataframe\">\n",
              "  <thead>\n",
              "    <tr style=\"text-align: right;\">\n",
              "      <th></th>\n",
              "      <th>시도코드</th>\n",
              "      <th>시도명</th>\n",
              "      <th>대상자건수</th>\n",
              "      <th>지표비율</th>\n",
              "    </tr>\n",
              "  </thead>\n",
              "  <tbody>\n",
              "    <tr>\n",
              "      <th>0</th>\n",
              "      <td>11</td>\n",
              "      <td>서울특별시</td>\n",
              "      <td>6410</td>\n",
              "      <td>100.0</td>\n",
              "    </tr>\n",
              "    <tr>\n",
              "      <th>1</th>\n",
              "      <td>21</td>\n",
              "      <td>부산광역시</td>\n",
              "      <td>2913</td>\n",
              "      <td>83.0</td>\n",
              "    </tr>\n",
              "    <tr>\n",
              "      <th>2</th>\n",
              "      <td>22</td>\n",
              "      <td>대구광역시</td>\n",
              "      <td>1491</td>\n",
              "      <td>111.0</td>\n",
              "    </tr>\n",
              "    <tr>\n",
              "      <th>3</th>\n",
              "      <td>23</td>\n",
              "      <td>인천광역시</td>\n",
              "      <td>1938</td>\n",
              "      <td>97.0</td>\n",
              "    </tr>\n",
              "    <tr>\n",
              "      <th>4</th>\n",
              "      <td>24</td>\n",
              "      <td>광주광역시</td>\n",
              "      <td>904</td>\n",
              "      <td>90.0</td>\n",
              "    </tr>\n",
              "    <tr>\n",
              "      <th>5</th>\n",
              "      <td>25</td>\n",
              "      <td>대전광역시</td>\n",
              "      <td>833</td>\n",
              "      <td>102.0</td>\n",
              "    </tr>\n",
              "    <tr>\n",
              "      <th>6</th>\n",
              "      <td>26</td>\n",
              "      <td>울산광역시</td>\n",
              "      <td>603</td>\n",
              "      <td>89.0</td>\n",
              "    </tr>\n",
              "    <tr>\n",
              "      <th>7</th>\n",
              "      <td>29</td>\n",
              "      <td>세종특별자치시</td>\n",
              "      <td>128</td>\n",
              "      <td>106.0</td>\n",
              "    </tr>\n",
              "    <tr>\n",
              "      <th>8</th>\n",
              "      <td>31</td>\n",
              "      <td>경기도</td>\n",
              "      <td>7913</td>\n",
              "      <td>106.0</td>\n",
              "    </tr>\n",
              "    <tr>\n",
              "      <th>9</th>\n",
              "      <td>32</td>\n",
              "      <td>강원도</td>\n",
              "      <td>1836</td>\n",
              "      <td>103.0</td>\n",
              "    </tr>\n",
              "    <tr>\n",
              "      <th>10</th>\n",
              "      <td>33</td>\n",
              "      <td>충청북도</td>\n",
              "      <td>1384</td>\n",
              "      <td>111.0</td>\n",
              "    </tr>\n",
              "    <tr>\n",
              "      <th>11</th>\n",
              "      <td>34</td>\n",
              "      <td>충청남도</td>\n",
              "      <td>1980</td>\n",
              "      <td>98.0</td>\n",
              "    </tr>\n",
              "    <tr>\n",
              "      <th>12</th>\n",
              "      <td>35</td>\n",
              "      <td>전라북도</td>\n",
              "      <td>1936</td>\n",
              "      <td>88.0</td>\n",
              "    </tr>\n",
              "    <tr>\n",
              "      <th>13</th>\n",
              "      <td>36</td>\n",
              "      <td>전라남도</td>\n",
              "      <td>2731</td>\n",
              "      <td>94.0</td>\n",
              "    </tr>\n",
              "    <tr>\n",
              "      <th>14</th>\n",
              "      <td>37</td>\n",
              "      <td>경상북도</td>\n",
              "      <td>2587</td>\n",
              "      <td>113.0</td>\n",
              "    </tr>\n",
              "    <tr>\n",
              "      <th>15</th>\n",
              "      <td>38</td>\n",
              "      <td>경상남도</td>\n",
              "      <td>3037</td>\n",
              "      <td>96.0</td>\n",
              "    </tr>\n",
              "    <tr>\n",
              "      <th>16</th>\n",
              "      <td>39</td>\n",
              "      <td>제주특별자치도</td>\n",
              "      <td>659</td>\n",
              "      <td>112.0</td>\n",
              "    </tr>\n",
              "  </tbody>\n",
              "</table>\n",
              "</div>"
            ],
            "text/plain": [
              "    시도코드      시도명  대상자건수   지표비율\n",
              "0     11    서울특별시   6410  100.0\n",
              "1     21    부산광역시   2913   83.0\n",
              "2     22    대구광역시   1491  111.0\n",
              "3     23    인천광역시   1938   97.0\n",
              "4     24    광주광역시    904   90.0\n",
              "5     25    대전광역시    833  102.0\n",
              "6     26    울산광역시    603   89.0\n",
              "7     29  세종특별자치시    128  106.0\n",
              "8     31      경기도   7913  106.0\n",
              "9     32      강원도   1836  103.0\n",
              "10    33     충청북도   1384  111.0\n",
              "11    34     충청남도   1980   98.0\n",
              "12    35     전라북도   1936   88.0\n",
              "13    36     전라남도   2731   94.0\n",
              "14    37     경상북도   2587  113.0\n",
              "15    38     경상남도   3037   96.0\n",
              "16    39  제주특별자치도    659  112.0"
            ]
          },
          "metadata": {},
          "execution_count": 99
        }
      ]
    },
    {
      "cell_type": "code",
      "metadata": {
        "colab": {
          "base_uri": "https://localhost:8080/",
          "height": 581
        },
        "id": "0KTKs2PwxOl0",
        "outputId": "67d9d6bb-0142-45e1-cefd-79a9905419ee"
      },
      "source": [
        "df2['십만명당 회피가능사망율'] = df2['대상자건수'] / df2['총 인구수(명)'] * 100000\n",
        "df2"
      ],
      "execution_count": null,
      "outputs": [
        {
          "output_type": "execute_result",
          "data": {
            "text/html": [
              "<div>\n",
              "<style scoped>\n",
              "    .dataframe tbody tr th:only-of-type {\n",
              "        vertical-align: middle;\n",
              "    }\n",
              "\n",
              "    .dataframe tbody tr th {\n",
              "        vertical-align: top;\n",
              "    }\n",
              "\n",
              "    .dataframe thead th {\n",
              "        text-align: right;\n",
              "    }\n",
              "</style>\n",
              "<table border=\"1\" class=\"dataframe\">\n",
              "  <thead>\n",
              "    <tr style=\"text-align: right;\">\n",
              "      <th></th>\n",
              "      <th>시도코드</th>\n",
              "      <th>시도명</th>\n",
              "      <th>대상자건수</th>\n",
              "      <th>지표비율</th>\n",
              "      <th>총 인구수(명)</th>\n",
              "      <th>총인구_남자(명)</th>\n",
              "      <th>총인구_여자(명)</th>\n",
              "      <th>총인구_성비(명)</th>\n",
              "      <th>십만명당 회피가능사망율</th>\n",
              "    </tr>\n",
              "  </thead>\n",
              "  <tbody>\n",
              "    <tr>\n",
              "      <th>0</th>\n",
              "      <td>11</td>\n",
              "      <td>서울특별시</td>\n",
              "      <td>6410</td>\n",
              "      <td>100.0</td>\n",
              "      <td>9639541</td>\n",
              "      <td>4690440</td>\n",
              "      <td>4949101</td>\n",
              "      <td>94.8</td>\n",
              "      <td>66.496942</td>\n",
              "    </tr>\n",
              "    <tr>\n",
              "      <th>1</th>\n",
              "      <td>21</td>\n",
              "      <td>부산광역시</td>\n",
              "      <td>2913</td>\n",
              "      <td>83.0</td>\n",
              "      <td>3372692</td>\n",
              "      <td>1655566</td>\n",
              "      <td>1717126</td>\n",
              "      <td>96.4</td>\n",
              "      <td>86.370176</td>\n",
              "    </tr>\n",
              "    <tr>\n",
              "      <th>2</th>\n",
              "      <td>22</td>\n",
              "      <td>대구광역시</td>\n",
              "      <td>1491</td>\n",
              "      <td>111.0</td>\n",
              "      <td>2429940</td>\n",
              "      <td>1203754</td>\n",
              "      <td>1226186</td>\n",
              "      <td>98.2</td>\n",
              "      <td>61.359540</td>\n",
              "    </tr>\n",
              "    <tr>\n",
              "      <th>3</th>\n",
              "      <td>23</td>\n",
              "      <td>인천광역시</td>\n",
              "      <td>1938</td>\n",
              "      <td>97.0</td>\n",
              "      <td>2952237</td>\n",
              "      <td>1484528</td>\n",
              "      <td>1467709</td>\n",
              "      <td>101.1</td>\n",
              "      <td>65.645136</td>\n",
              "    </tr>\n",
              "    <tr>\n",
              "      <th>4</th>\n",
              "      <td>24</td>\n",
              "      <td>광주광역시</td>\n",
              "      <td>904</td>\n",
              "      <td>90.0</td>\n",
              "      <td>1489730</td>\n",
              "      <td>741287</td>\n",
              "      <td>748443</td>\n",
              "      <td>99.0</td>\n",
              "      <td>60.682137</td>\n",
              "    </tr>\n",
              "    <tr>\n",
              "      <th>5</th>\n",
              "      <td>25</td>\n",
              "      <td>대전광역시</td>\n",
              "      <td>833</td>\n",
              "      <td>102.0</td>\n",
              "      <td>1498839</td>\n",
              "      <td>751585</td>\n",
              "      <td>747254</td>\n",
              "      <td>100.6</td>\n",
              "      <td>55.576349</td>\n",
              "    </tr>\n",
              "    <tr>\n",
              "      <th>6</th>\n",
              "      <td>26</td>\n",
              "      <td>울산광역시</td>\n",
              "      <td>603</td>\n",
              "      <td>89.0</td>\n",
              "      <td>1143692</td>\n",
              "      <td>591965</td>\n",
              "      <td>551727</td>\n",
              "      <td>107.3</td>\n",
              "      <td>52.723985</td>\n",
              "    </tr>\n",
              "    <tr>\n",
              "      <th>7</th>\n",
              "      <td>29</td>\n",
              "      <td>세종특별자치시</td>\n",
              "      <td>128</td>\n",
              "      <td>106.0</td>\n",
              "      <td>338136</td>\n",
              "      <td>170148</td>\n",
              "      <td>167988</td>\n",
              "      <td>101.3</td>\n",
              "      <td>37.854591</td>\n",
              "    </tr>\n",
              "    <tr>\n",
              "      <th>8</th>\n",
              "      <td>31</td>\n",
              "      <td>경기도</td>\n",
              "      <td>7913</td>\n",
              "      <td>106.0</td>\n",
              "      <td>13300900</td>\n",
              "      <td>6740448</td>\n",
              "      <td>6560452</td>\n",
              "      <td>102.7</td>\n",
              "      <td>59.492215</td>\n",
              "    </tr>\n",
              "    <tr>\n",
              "      <th>9</th>\n",
              "      <td>32</td>\n",
              "      <td>강원도</td>\n",
              "      <td>1836</td>\n",
              "      <td>103.0</td>\n",
              "      <td>1520127</td>\n",
              "      <td>767717</td>\n",
              "      <td>752410</td>\n",
              "      <td>102.0</td>\n",
              "      <td>120.779382</td>\n",
              "    </tr>\n",
              "    <tr>\n",
              "      <th>10</th>\n",
              "      <td>33</td>\n",
              "      <td>충청북도</td>\n",
              "      <td>1384</td>\n",
              "      <td>111.0</td>\n",
              "      <td>1629343</td>\n",
              "      <td>832543</td>\n",
              "      <td>796800</td>\n",
              "      <td>104.5</td>\n",
              "      <td>84.942213</td>\n",
              "    </tr>\n",
              "    <tr>\n",
              "      <th>11</th>\n",
              "      <td>34</td>\n",
              "      <td>충청남도</td>\n",
              "      <td>1980</td>\n",
              "      <td>98.0</td>\n",
              "      <td>2188649</td>\n",
              "      <td>1124678</td>\n",
              "      <td>1063971</td>\n",
              "      <td>105.7</td>\n",
              "      <td>90.466767</td>\n",
              "    </tr>\n",
              "    <tr>\n",
              "      <th>12</th>\n",
              "      <td>35</td>\n",
              "      <td>전라북도</td>\n",
              "      <td>1936</td>\n",
              "      <td>88.0</td>\n",
              "      <td>1807423</td>\n",
              "      <td>902704</td>\n",
              "      <td>904719</td>\n",
              "      <td>99.8</td>\n",
              "      <td>107.113830</td>\n",
              "    </tr>\n",
              "    <tr>\n",
              "      <th>13</th>\n",
              "      <td>36</td>\n",
              "      <td>전라남도</td>\n",
              "      <td>2731</td>\n",
              "      <td>94.0</td>\n",
              "      <td>1787543</td>\n",
              "      <td>901813</td>\n",
              "      <td>885730</td>\n",
              "      <td>101.8</td>\n",
              "      <td>152.779542</td>\n",
              "    </tr>\n",
              "    <tr>\n",
              "      <th>14</th>\n",
              "      <td>37</td>\n",
              "      <td>경상북도</td>\n",
              "      <td>2587</td>\n",
              "      <td>113.0</td>\n",
              "      <td>2668154</td>\n",
              "      <td>1352404</td>\n",
              "      <td>1315750</td>\n",
              "      <td>102.8</td>\n",
              "      <td>96.958421</td>\n",
              "    </tr>\n",
              "    <tr>\n",
              "      <th>15</th>\n",
              "      <td>38</td>\n",
              "      <td>경상남도</td>\n",
              "      <td>3037</td>\n",
              "      <td>96.0</td>\n",
              "      <td>3347209</td>\n",
              "      <td>1703892</td>\n",
              "      <td>1643317</td>\n",
              "      <td>103.7</td>\n",
              "      <td>90.732309</td>\n",
              "    </tr>\n",
              "    <tr>\n",
              "      <th>16</th>\n",
              "      <td>39</td>\n",
              "      <td>제주특별자치도</td>\n",
              "      <td>659</td>\n",
              "      <td>112.0</td>\n",
              "      <td>665048</td>\n",
              "      <td>336598</td>\n",
              "      <td>328450</td>\n",
              "      <td>102.5</td>\n",
              "      <td>99.090592</td>\n",
              "    </tr>\n",
              "  </tbody>\n",
              "</table>\n",
              "</div>"
            ],
            "text/plain": [
              "    시도코드      시도명  대상자건수   지표비율  ...  총인구_남자(명)  총인구_여자(명)  총인구_성비(명)  십만명당 회피가능사망율\n",
              "0     11    서울특별시   6410  100.0  ...    4690440    4949101       94.8     66.496942\n",
              "1     21    부산광역시   2913   83.0  ...    1655566    1717126       96.4     86.370176\n",
              "2     22    대구광역시   1491  111.0  ...    1203754    1226186       98.2     61.359540\n",
              "3     23    인천광역시   1938   97.0  ...    1484528    1467709      101.1     65.645136\n",
              "4     24    광주광역시    904   90.0  ...     741287     748443       99.0     60.682137\n",
              "5     25    대전광역시    833  102.0  ...     751585     747254      100.6     55.576349\n",
              "6     26    울산광역시    603   89.0  ...     591965     551727      107.3     52.723985\n",
              "7     29  세종특별자치시    128  106.0  ...     170148     167988      101.3     37.854591\n",
              "8     31      경기도   7913  106.0  ...    6740448    6560452      102.7     59.492215\n",
              "9     32      강원도   1836  103.0  ...     767717     752410      102.0    120.779382\n",
              "10    33     충청북도   1384  111.0  ...     832543     796800      104.5     84.942213\n",
              "11    34     충청남도   1980   98.0  ...    1124678    1063971      105.7     90.466767\n",
              "12    35     전라북도   1936   88.0  ...     902704     904719       99.8    107.113830\n",
              "13    36     전라남도   2731   94.0  ...     901813     885730      101.8    152.779542\n",
              "14    37     경상북도   2587  113.0  ...    1352404    1315750      102.8     96.958421\n",
              "15    38     경상남도   3037   96.0  ...    1703892    1643317      103.7     90.732309\n",
              "16    39  제주특별자치도    659  112.0  ...     336598     328450      102.5     99.090592\n",
              "\n",
              "[17 rows x 9 columns]"
            ]
          },
          "metadata": {},
          "execution_count": 100
        }
      ]
    },
    {
      "cell_type": "code",
      "metadata": {
        "colab": {
          "base_uri": "https://localhost:8080/",
          "height": 205
        },
        "id": "YBoO0ZPPxQGp",
        "outputId": "43a8718e-6da0-4236-9945-a20baa8d7b40"
      },
      "source": [
        "df2 = df2[['시도코드', '시도명', '십만명당 회피가능사망율']]\n",
        "df2.head()"
      ],
      "execution_count": null,
      "outputs": [
        {
          "output_type": "execute_result",
          "data": {
            "text/html": [
              "<div>\n",
              "<style scoped>\n",
              "    .dataframe tbody tr th:only-of-type {\n",
              "        vertical-align: middle;\n",
              "    }\n",
              "\n",
              "    .dataframe tbody tr th {\n",
              "        vertical-align: top;\n",
              "    }\n",
              "\n",
              "    .dataframe thead th {\n",
              "        text-align: right;\n",
              "    }\n",
              "</style>\n",
              "<table border=\"1\" class=\"dataframe\">\n",
              "  <thead>\n",
              "    <tr style=\"text-align: right;\">\n",
              "      <th></th>\n",
              "      <th>시도코드</th>\n",
              "      <th>시도명</th>\n",
              "      <th>십만명당 회피가능사망율</th>\n",
              "    </tr>\n",
              "  </thead>\n",
              "  <tbody>\n",
              "    <tr>\n",
              "      <th>0</th>\n",
              "      <td>11</td>\n",
              "      <td>서울특별시</td>\n",
              "      <td>66.496942</td>\n",
              "    </tr>\n",
              "    <tr>\n",
              "      <th>1</th>\n",
              "      <td>21</td>\n",
              "      <td>부산광역시</td>\n",
              "      <td>86.370176</td>\n",
              "    </tr>\n",
              "    <tr>\n",
              "      <th>2</th>\n",
              "      <td>22</td>\n",
              "      <td>대구광역시</td>\n",
              "      <td>61.359540</td>\n",
              "    </tr>\n",
              "    <tr>\n",
              "      <th>3</th>\n",
              "      <td>23</td>\n",
              "      <td>인천광역시</td>\n",
              "      <td>65.645136</td>\n",
              "    </tr>\n",
              "    <tr>\n",
              "      <th>4</th>\n",
              "      <td>24</td>\n",
              "      <td>광주광역시</td>\n",
              "      <td>60.682137</td>\n",
              "    </tr>\n",
              "  </tbody>\n",
              "</table>\n",
              "</div>"
            ],
            "text/plain": [
              "   시도코드    시도명  십만명당 회피가능사망율\n",
              "0    11  서울특별시     66.496942\n",
              "1    21  부산광역시     86.370176\n",
              "2    22  대구광역시     61.359540\n",
              "3    23  인천광역시     65.645136\n",
              "4    24  광주광역시     60.682137"
            ]
          },
          "metadata": {},
          "execution_count": 101
        }
      ]
    },
    {
      "cell_type": "code",
      "metadata": {
        "id": "PSymA8wnxRoP"
      },
      "source": [
        "df2.to_csv('회피가능사망율(인구십만명당_의료지도).csv')"
      ],
      "execution_count": null,
      "outputs": []
    },
    {
      "cell_type": "code",
      "metadata": {
        "id": "VkuM1r7axewR"
      },
      "source": [
        ""
      ],
      "execution_count": null,
      "outputs": []
    }
  ]
}