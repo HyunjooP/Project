{
  "nbformat": 4,
  "nbformat_minor": 0,
  "metadata": {
    "colab": {
      "name": "박현주_1022_추천제품.ipynb",
      "provenance": [],
      "collapsed_sections": []
    },
    "kernelspec": {
      "name": "python3",
      "display_name": "Python 3"
    },
    "language_info": {
      "name": "python"
    }
  },
  "cells": [
    {
      "cell_type": "code",
      "metadata": {
        "id": "HOnTNySGAvC7"
      },
      "source": [
        "import pandas as pd\n",
        "df = pd.read_csv('/content/의약품효능및복용법(update).csv')\n",
        "\n",
        "import pickle\n",
        "with open('/content/item_list.pickle','rb') as fr:\n",
        "  disease_dict = pickle.load(fr)"
      ],
      "execution_count": 38,
      "outputs": []
    },
    {
      "cell_type": "code",
      "metadata": {
        "id": "BtpOg8TxBXEU"
      },
      "source": [
        "def recommend_items(symptom):\n",
        "  df = pd.read_csv('/content/의약품효능및복용법(update).csv')\n",
        "\n",
        "  recommend = df[df['증상'] == symptom]\n",
        "  recommend['length'] = recommend['효능'].str.count(' ')+1\n",
        "  recommend.sort_values(by='length', ascending=False, inplace=True)\n",
        "  item_list = recommend['제품명'][:5].tolist()\n",
        "  items = ' ,'.join(map(str, item_list))\n",
        "  return items"
      ],
      "execution_count": 33,
      "outputs": []
    },
    {
      "cell_type": "code",
      "metadata": {
        "colab": {
          "base_uri": "https://localhost:8080/"
        },
        "id": "zjwJXNisBXAS",
        "outputId": "2deff410-c038-4c88-a672-a6ab73fde41e"
      },
      "source": [
        "symptom = '두통'\n",
        "img = '타이레놀 정'\n",
        "\n",
        "\n",
        "if img in disease_dict[symptom]:\n",
        "  info = df[df['제품명'].str.contains(img)]\n",
        "  print('알맞은 약입니다. 복용법을 설명드리겠습니다.' + info['복용법'])\n",
        "else:\n",
        "  print(f'{symptom} 증상에 맞는 {recommend_items(symptom)}을 추천합니다')"
      ],
      "execution_count": 42,
      "outputs": [
        {
          "output_type": "stream",
          "name": "stdout",
          "text": [
            "두통 증상에 맞는 부루펜정200밀리그램(이부프로펜) ,부루펜정400밀리그램(이부프로펜) ,스코펜정400밀리그램(이부프로펜) ,게보린정(수출명:돌로린정) ,뇌선을 추천합니다\n"
          ]
        },
        {
          "output_type": "stream",
          "name": "stderr",
          "text": [
            "/usr/local/lib/python3.7/dist-packages/ipykernel_launcher.py:5: SettingWithCopyWarning: \n",
            "A value is trying to be set on a copy of a slice from a DataFrame.\n",
            "Try using .loc[row_indexer,col_indexer] = value instead\n",
            "\n",
            "See the caveats in the documentation: https://pandas.pydata.org/pandas-docs/stable/user_guide/indexing.html#returning-a-view-versus-a-copy\n",
            "  \"\"\"\n",
            "/usr/local/lib/python3.7/dist-packages/ipykernel_launcher.py:6: SettingWithCopyWarning: \n",
            "A value is trying to be set on a copy of a slice from a DataFrame\n",
            "\n",
            "See the caveats in the documentation: https://pandas.pydata.org/pandas-docs/stable/user_guide/indexing.html#returning-a-view-versus-a-copy\n",
            "  \n"
          ]
        }
      ]
    },
    {
      "cell_type": "code",
      "metadata": {
        "id": "Gj7xJA4tGQ-W"
      },
      "source": [
        ""
      ],
      "execution_count": null,
      "outputs": []
    }
  ]
}