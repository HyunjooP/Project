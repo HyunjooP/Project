{
  "nbformat": 4,
  "nbformat_minor": 0,
  "metadata": {
    "colab": {
      "name": "박현주_1022_api(a안).ipynb",
      "provenance": [],
      "collapsed_sections": []
    },
    "kernelspec": {
      "name": "python3",
      "display_name": "Python 3"
    },
    "language_info": {
      "name": "python"
    }
  },
  "cells": [
    {
      "cell_type": "markdown",
      "metadata": {
        "id": "HD5-QVHW4z2v"
      },
      "source": [
        "# 데이터프레임없이 데이터 불러오기"
      ]
    },
    {
      "cell_type": "code",
      "metadata": {
        "id": "eCugrEGEhj5i"
      },
      "source": [
        "filename = '/content/key - 복사본.txt'"
      ],
      "execution_count": 9,
      "outputs": []
    },
    {
      "cell_type": "code",
      "metadata": {
        "colab": {
          "base_uri": "https://localhost:8080/"
        },
        "id": "6fplYA-hc4wf",
        "outputId": "51e540d5-6c41-42f8-9aa4-f667ef42e3c7"
      },
      "source": [
        "with open(filename) as f:\n",
        "  api_key = f.read()\n",
        "len(api_key)"
      ],
      "execution_count": 10,
      "outputs": [
        {
          "output_type": "execute_result",
          "data": {
            "text/plain": [
              "88"
            ]
          },
          "metadata": {},
          "execution_count": 10
        }
      ]
    },
    {
      "cell_type": "code",
      "metadata": {
        "id": "dfud88wec4rW"
      },
      "source": [
        "import requests, bs4\n",
        "import pandas as pd\n",
        "from lxml import html\n",
        "from urllib.request import Request, urlopen\n",
        "from urllib.parse import urlencode, quote_plus, unquote\n",
        "import re"
      ],
      "execution_count": 11,
      "outputs": []
    },
    {
      "cell_type": "code",
      "metadata": {
        "colab": {
          "base_uri": "https://localhost:8080/"
        },
        "id": "xTdwU5YJc4mO",
        "outputId": "6468c937-1a37-4c12-b847-2b743784fd61"
      },
      "source": [
        "# 1. URL 파라미터 분리하기.\n",
        "# Service URL\n",
        "med_url = 'http://apis.data.go.kr/1471000/DrbEasyDrugInfoService/getDrbEasyDrugList'\n",
        "\n",
        "My_API_Key = api_key\n",
        "queryParams = '?' + urlencode(                                \n",
        "    {   quote_plus('ServiceKey') : My_API_Key,        \n",
        "        quote_plus('itemName') : '판콜에이내복액'          \n",
        "     })\n",
        "\n",
        "response = requests.get(med_url + queryParams).text.encode('utf-8')\n",
        "xmlobj = bs4.BeautifulSoup(response, 'lxml-xml')\n",
        "xmlobj"
      ],
      "execution_count": 12,
      "outputs": [
        {
          "output_type": "execute_result",
          "data": {
            "text/plain": [
              "<?xml version=\"1.0\" encoding=\"utf-8\"?>\n",
              "<response>\n",
              "<header>\n",
              "<resultCode>00</resultCode>\n",
              "<resultMsg>NORMAL SERVICE.</resultMsg>\n",
              "</header>\n",
              "<body>\n",
              "<numOfRows>10</numOfRows>\n",
              "<pageNo>1</pageNo>\n",
              "<totalCount>1</totalCount>\n",
              "<items>\n",
              "<item>\n",
              "<entpName>동화약품(주)</entpName>\n",
              "<itemName>판콜에이내복액</itemName>\n",
              "<itemSeq>196800036</itemSeq>\n",
              "<efcyQesitm>&lt;p&gt;이 약은 감기의 여러 증상(콧물, 코막힘, 재채기, 인후(목구멍)통, 기침, 가래, 오한(춥고 떨리는 증상), 발열, 두통, 관절통, 근육통)의 완화에 사용합니다.&lt;/p&gt;</efcyQesitm>\n",
              "<useMethodQesitm>&lt;p&gt;성인 1회 1병(30 mL), 1일 3회 식후 30분에 복용합니다.&lt;/p&gt;</useMethodQesitm>\n",
              "<atpnWarnQesitm>&lt;p&gt;매일 세잔 이상 정기적 음주자가 이 약 또는 다른 해열진통제를 복용할 때는 의사 또는 약사와 상의하십시오. 간손상을 일으킬 수 있습니다.&lt;/p&gt;&lt;p&gt;매우 드물게 치명적일 수 있는 급성전신발진고름물집증, 스티븐스-존슨증후군, 독성표피괴사용해와 같은 중대한 피부반응이 보고되었고 이 약 복용 후 피부발진 또는 다른 과민반응의 징후가 나타나는 경우 즉시 복용을 중단하십시오.&lt;/p&gt;&lt;p&gt;아세트아미노펜으로 일일 최대 용량(4,000 mg)을 초과하여 복용하지 마십시오. 간손상을 일으킬 수 있습니다. 아세트아미노펜을 포함하는 다른 제품과 함께 복용하지 마십시오.&lt;/p&gt;</atpnWarnQesitm>\n",
              "<atpnQesitm>&lt;p&gt;이 약에 과민증 환자 및 경험자, 다른 해열진통제, 감기약 복용 시 천식 경험자, 만 3개월 미만의 영아, MAO억제제(항우울제, 항정신병제, 감정조절제, 항파킨슨제 등)를 복용하고 있거나 복용을 중단한 후 2주 이내의 사람은 이 약을 복용하지 마십시오.&lt;/p&gt;&lt;p&gt;이 약을 복용하기 전에 수두 또는 인플루엔자에 감염되어 있거나 또는 의심되는 영아 및 만 15세 미만의 어린이, 임부 또는 임신하고 있을 가능성이 있는 여성 및 수유부, 고령자, 몸이 약한 사람, 알레르기 체질, 알레르기 증상(발열, 발진, 관절통, 천식, 가려움증 등) 경험자, 간장질환, 신장질환, 심장질환, 갑상선질환, 당뇨병, 고혈압, 위십이지장궤양, 녹내장(눈의 통증, 눈이 침침함 등), 배뇨곤란, 고열, 속쓰림, 위부불쾌감, 위통과 같은 위장문제, 궤양, 출혈문제, 흡연, 천식, 만성 기관지염, 폐기종, 과도한 가래가 동반되는 기침, 1주 이상 지속 또는 재발되는 기침, 만성 기침, 발열·발진이나 지속적인 두통이 동반되는 기침 환자, 황색5호에 과민증 환자 또는 경험자는 의사 또는 약사와 상의하십시오.&lt;/p&gt;&lt;p&gt;정해진 용법과 용량을 잘 지키십시오.&lt;/p&gt;&lt;p&gt;복용 후 졸음이 나타날 수 있으므로 운전 및 기계조작 시 주의하십시오.&lt;/p&gt;</atpnQesitm>\n",
              "<intrcQesitm>&lt;p&gt;아세트아미노펜을 포함하는 다른 제품, MAO억제제(항우울제, 항정신병제, 감정조절제, 항파킨슨제 등), 진해거담제, 다른 감기약, 해열진통제, 진정제, 항히스타민제를 함유하는 내복약(비염용 경구제, 멀미약, 알레르기용약)과 함께 복용하지 마십시오.&lt;/p&gt;&lt;p&gt;당뇨약, 통풍약, 관절염약, 항응고제, 스테로이드제, 바르비탈계 약물, 삼환계 항우울제, 알코올과 함께 복용 시 의사 또는 약사와 상의하십시오.&lt;/p&gt;&lt;p&gt;복용 중에는 음주하지 마십시오.&lt;/p&gt;</intrcQesitm>\n",
              "<seQesitm>&lt;p&gt;발진, 발적, 가려움, 구역, 구토, 식욕부진, 변비, 부종, 배뇨곤란, 목마름(지속적이거나 심한), 어지러움, 쇽 증상(복용 후 바로 두드러기, 부종, 가슴답답함 등과 함께 안색이 창백하고, 손발이 차고, 식은땀, 숨쉬기 곤란함), 피부점막안증후군(스티븐스-존슨증후군), 독성표피괴사용해(고열을 동반하고, 발진·발적, 화상과 같이 물집이 생기는 심한 증상이 전신피부, 입 또는 눈점막에 나타남), 급성전신발진고름물집증, 천식, 전신의 나른함, 황달, 간질성폐렴(기침을 동반하고, 숨이 차고, 호흡곤란, 발열) 등이 나타나는 경우 복용을 즉각 중지하고 의사 또는 약사와 상의하십시오.&lt;/p&gt;</seQesitm>\n",
              "<depositMethodQesitm>&lt;p&gt;습기와 빛을 피해 실온에서 보관하십시오.&lt;/p&gt;&lt;p&gt;어린이의 손이 닿지 않는 곳에 보관하십시오.&lt;/p&gt;</depositMethodQesitm>\n",
              "<openDe>2021-02-25 00:00:00</openDe>\n",
              "<updateDe>20210225</updateDe>\n",
              "<itemImage/>\n",
              "</item>\n",
              "</items>\n",
              "</body>\n",
              "</response>"
            ]
          },
          "metadata": {},
          "execution_count": 12
        }
      ]
    },
    {
      "cell_type": "code",
      "metadata": {
        "colab": {
          "base_uri": "https://localhost:8080/"
        },
        "id": "XqBaDu2EdG4o",
        "outputId": "0d742d80-9d97-421d-bcec-94d9f77db3c3"
      },
      "source": [
        "eff = xmlobj.findAll('efcyQesitm')\n",
        "eff"
      ],
      "execution_count": 13,
      "outputs": [
        {
          "output_type": "execute_result",
          "data": {
            "text/plain": [
              "[<efcyQesitm>&lt;p&gt;이 약은 감기의 여러 증상(콧물, 코막힘, 재채기, 인후(목구멍)통, 기침, 가래, 오한(춥고 떨리는 증상), 발열, 두통, 관절통, 근육통)의 완화에 사용합니다.&lt;/p&gt;</efcyQesitm>]"
            ]
          },
          "metadata": {},
          "execution_count": 13
        }
      ]
    },
    {
      "cell_type": "code",
      "metadata": {
        "colab": {
          "base_uri": "https://localhost:8080/"
        },
        "id": "5xWkzClEm2TM",
        "outputId": "15ccdd95-1065-4206-a26e-1d47dc481a36"
      },
      "source": [
        "use = xmlobj.findAll('useMethodQesitm')\n",
        "use"
      ],
      "execution_count": 14,
      "outputs": [
        {
          "output_type": "execute_result",
          "data": {
            "text/plain": [
              "[<useMethodQesitm>&lt;p&gt;성인 1회 1병(30 mL), 1일 3회 식후 30분에 복용합니다.&lt;/p&gt;</useMethodQesitm>]"
            ]
          },
          "metadata": {},
          "execution_count": 14
        }
      ]
    },
    {
      "cell_type": "code",
      "metadata": {
        "colab": {
          "base_uri": "https://localhost:8080/"
        },
        "id": "3gmYl94Pm70e",
        "outputId": "bf1f74a3-0a63-4d30-dcd9-30cd37f17a4f"
      },
      "source": [
        "med_url = 'http://apis.data.go.kr/1471000/DrbEasyDrugInfoService/getDrbEasyDrugList'\n",
        "name = '판콜에이내복액'\n",
        "name_ocr = '판콜에이내복액'\n",
        "\n",
        "My_API_Key = api_key\n",
        "queryParams = '?' + urlencode(                                \n",
        "    {   quote_plus('ServiceKey') : My_API_Key,        \n",
        "        quote_plus('itemName') : name})\n",
        "\n",
        "response = requests.get(med_url + queryParams).text.encode('utf-8')\n",
        "xmlobj = bs4.BeautifulSoup(response, 'lxml-xml')\n",
        "eff = xmlobj.findAll('efcyQesitm')\n",
        "use = xmlobj.findAll('useMethodQesitm')\n",
        "\n",
        "if name_ocr == name:\n",
        "  print(eff)\n"
      ],
      "execution_count": 16,
      "outputs": [
        {
          "output_type": "stream",
          "name": "stdout",
          "text": [
            "[<efcyQesitm>&lt;p&gt;이 약은 감기의 여러 증상(콧물, 코막힘, 재채기, 인후(목구멍)통, 기침, 가래, 오한(춥고 떨리는 증상), 발열, 두통, 관절통, 근육통)의 완화에 사용합니다.&lt;/p&gt;</efcyQesitm>]\n"
          ]
        }
      ]
    },
    {
      "cell_type": "code",
      "metadata": {
        "id": "GLbSHOB7o9mz"
      },
      "source": [
        ""
      ],
      "execution_count": null,
      "outputs": []
    }
  ]
}