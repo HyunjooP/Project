{
  "nbformat": 4,
  "nbformat_minor": 0,
  "metadata": {
    "colab": {
      "name": "박현주_1020_clova.ipynb",
      "provenance": [],
      "collapsed_sections": []
    },
    "kernelspec": {
      "name": "python3",
      "display_name": "Python 3"
    },
    "language_info": {
      "name": "python"
    }
  },
  "cells": [
    {
      "cell_type": "markdown",
      "metadata": {
        "id": "CSf7OnnxXOgZ"
      },
      "source": [
        "# Speech"
      ]
    },
    {
      "cell_type": "code",
      "metadata": {
        "colab": {
          "base_uri": "https://localhost:8080/"
        },
        "id": "0fHj5s4ZBqlo",
        "outputId": "57ea7358-12e5-44a7-b355-e1040cfe4a40"
      },
      "source": [
        "import requests\n",
        "\n",
        "client_id = \"9y8asy6o9n\"\n",
        "client_secret = \"721Bsmf9cwzvPxkc32pRRbQXeUxeb9RvI92A9uNQ\"\n",
        "lang = \"Kor\"    # 언어 코드 ( Kor, Jpn, Eng, Chn )\n",
        "url = \"https://naveropenapi.apigw.ntruss.com/recog/v1/stt?lang=\" + lang\n",
        "\n",
        "data = open('/content/두통1.m4a', 'rb')\n",
        "#data = open('./contents/news.mp3', 'rb')\n",
        "#data = open('./contents/kr_book.mp3', 'rb')\n",
        "\n",
        "headers = {\n",
        "    \"X-NCP-APIGW-API-KEY-ID\": \"9y8asy6o9n\",\n",
        "    \"X-NCP-APIGW-API-KEY\": \"721Bsmf9cwzvPxkc32pRRbQXeUxeb9RvI92A9uNQ\",\n",
        "    \"Content-Type\": \"application/octet-stream\"\n",
        "}\n",
        "\n",
        "response = requests.post(url,  data=data, headers=headers)\n",
        "\n",
        "rescode = response.status_code\n",
        "\n",
        "if(rescode == 200):\n",
        "    print(response.text)\n",
        "else:\n",
        "    print(\"Error : \" + response.text)"
      ],
      "execution_count": null,
      "outputs": [
        {
          "output_type": "stream",
          "name": "stdout",
          "text": [
            "{\"text\":\"두통\"}\n"
          ]
        }
      ]
    },
    {
      "cell_type": "markdown",
      "metadata": {
        "id": "csLvVgR6XLtu"
      },
      "source": [
        "# Voice"
      ]
    },
    {
      "cell_type": "code",
      "metadata": {
        "colab": {
          "base_uri": "https://localhost:8080/"
        },
        "id": "U_9R-nSlXLQq",
        "outputId": "ea232e0e-096f-4556-dcb2-94a04d97bab8"
      },
      "source": [
        "import requests\n",
        "\n",
        "client_id = \"9y8asy6o9n\"\n",
        "client_secret = \"\"\n",
        "\n",
        "text = \"이 증상에 맞는 타이레놀을 추천합니다.\"\n",
        "\n",
        "speaker = \"nara\"\n",
        "speed = \"0\"\n",
        "pitch = \"0\"\n",
        "emotion = \"0\"\n",
        "format = \"mp3\"\n",
        "\n",
        "val = {\n",
        "    \"speaker\": speaker,\n",
        "    \"speed\": speed,\n",
        "    \"text\": text\n",
        "}\n",
        "\n",
        "url = \"https://naveropenapi.apigw.ntruss.com/tts-premium/v1/tts\"\n",
        "\n",
        "headers = {\n",
        "    \"X-NCP-APIGW-API-KEY-ID\": \"9y8asy6o9n\",\n",
        "    \"X-NCP-APIGW-API-KEY\": \"721Bsmf9cwzvPxkc32pRRbQXeUxeb9RvI92A9uNQ\",\n",
        "    \"Content-Type\": \"application/x-www-form-urlencoded\"\n",
        "}\n",
        "\n",
        "response = requests.post(url,  data=val, headers=headers)\n",
        "rescode = response.status_code\n",
        "\n",
        "if(rescode == 200):\n",
        "    print(rescode)\n",
        "    with open('cpv_sample.mp3', 'wb') as f:\n",
        "        f.write(response.content)\n",
        "else:\n",
        "    print(\"Error : \" + response.text)"
      ],
      "execution_count": null,
      "outputs": [
        {
          "output_type": "stream",
          "name": "stdout",
          "text": [
            "200\n"
          ]
        }
      ]
    },
    {
      "cell_type": "code",
      "metadata": {
        "id": "Bf6waJgDYBOu"
      },
      "source": [
        ""
      ],
      "execution_count": null,
      "outputs": []
    }
  ]
}